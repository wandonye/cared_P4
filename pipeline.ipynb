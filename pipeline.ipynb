{
 "cells": [
  {
   "cell_type": "code",
   "execution_count": 1,
   "metadata": {
    "collapsed": true
   },
   "outputs": [],
   "source": [
    "import numpy as np\n",
    "import cv2\n",
    "import glob\n",
    "from matplotlib import pyplot as plt\n",
    "import matplotlib.image as mpimg\n",
    "import matplotlib.cm as cm\n",
    "import math\n",
    "from collections import defaultdict\n",
    "import operator\n",
    "import heapq\n",
    "\n",
    "\n",
    "%matplotlib inline"
   ]
  },
  {
   "cell_type": "markdown",
   "metadata": {},
   "source": [
    "## Camera Calibration"
   ]
  },
  {
   "cell_type": "code",
   "execution_count": 2,
   "metadata": {
    "collapsed": true
   },
   "outputs": [],
   "source": [
    "check_imgs = [\"camera_cal/calibration\"+str(i)+\".jpg\" for i in range(1,21)]\n",
    "grid_sizes = [(9,5),(9,6),(9,6),(6,5),(7,6)]+ [(9,6)]*15\n",
    "\n",
    "def calibration_matrix(imgs, grid_sizes):\n",
    "    objpoints = []\n",
    "    imgpoints = []\n",
    "    for idx, fname in enumerate(imgs):\n",
    "        img = cv2.imread(fname)\n",
    "        gray = cv2.cvtColor(img, cv2.COLOR_BGR2GRAY)\n",
    "        grid_size = grid_sizes[idx]\n",
    "        # Find the chessboard corners\n",
    "        ret, corners = cv2.findChessboardCorners(gray, grid_size, None)\n",
    "\n",
    "        # If found, add object points, image points\n",
    "        if ret == True:\n",
    "            objp = np.zeros((grid_size[0]*grid_size[1],3), np.float32)\n",
    "            objp[:,:2] = np.mgrid[0:grid_size[0], 0:grid_size[1]].T.reshape(-1,2)\n",
    "\n",
    "            objpoints.append(objp)\n",
    "            imgpoints.append(corners)\n",
    "            \n",
    "    ret, mtx, dist, rvecs, tvecs = cv2.calibrateCamera(objpoints, imgpoints, gray.shape[::-1], None, None)\n",
    "    return (mtx,dist)\n",
    "\n",
    "mtx, dist = calibration_matrix(check_imgs,grid_sizes)"
   ]
  },
  {
   "cell_type": "markdown",
   "metadata": {},
   "source": [
    "## Transformation to Birdview"
   ]
  },
  {
   "cell_type": "code",
   "execution_count": 3,
   "metadata": {
    "collapsed": true
   },
   "outputs": [],
   "source": [
    "img_size = (720,720)\n",
    "\n",
    "def perspective_transformation(target_img_size):\n",
    "    src = np.array([[592, 453], \n",
    "                    [695,453],\n",
    "                    [970, 630],\n",
    "                    [348, 630]], dtype = \"float32\")\n",
    "\n",
    "    h_margin = 200\n",
    "    top_margin = 200\n",
    "    bottom_margin = 30\n",
    "    dst = np.array([[h_margin, top_margin], \n",
    "                    [target_img_size[0] - h_margin, top_margin],\n",
    "                    [target_img_size[0] - h_margin, target_img_size[1] - bottom_margin],\n",
    "                    [h_margin, target_img_size[1] - bottom_margin]], dtype = \"float32\")\n",
    "    return cv2.getPerspectiveTransform(src, dst)\n",
    "\n",
    "M = perspective_transformation(img_size)\n",
    "M_inv = np.linalg.inv(M)"
   ]
  },
  {
   "cell_type": "markdown",
   "metadata": {},
   "source": [
    "## Define Mask"
   ]
  },
  {
   "cell_type": "code",
   "execution_count": 4,
   "metadata": {},
   "outputs": [
    {
     "name": "stdout",
     "output_type": "stream",
     "text": [
      "This is how the mask looks like on the birdview image\n"
     ]
    },
    {
     "data": {
      "text/plain": [
       "<matplotlib.image.AxesImage at 0x10e4340f0>"
      ]
     },
     "execution_count": 4,
     "metadata": {},
     "output_type": "execute_result"
    },
    {
     "data": {
      "image/png": "[encoded data removed]",
      "text/plain": [
       "<matplotlib.figure.Figure at 0x10d578358>"
      ]
     },
     "metadata": {},
     "output_type": "display_data"
    }
   ],
   "source": [
    "def region_of_interest(shape, vertices):\n",
    "    #defining a blank mask to start with\n",
    "    mask = np.zeros(shape,dtype=np.uint8)\n",
    "    cv2.fillPoly(mask, np.array([vertices], dtype=np.int32),1)\n",
    "    return mask\n",
    "roi = region_of_interest((720,1280), [[300,420],[200,670],[700,600],[1150,670],[1000,420]])\n",
    "roi = cv2.undistort(roi, mtx, dist, None, mtx)\n",
    "roi = cv2.warpPerspective(roi, M, img_size, flags=cv2.INTER_LINEAR)\n",
    "print(\"This is how the mask looks like on the birdview image\")\n",
    "plt.imshow(roi,cmap='gray')"
   ]
  },
  {
   "cell_type": "code",
   "execution_count": 5,
   "metadata": {},
   "outputs": [
    {
     "name": "stdout",
     "output_type": "stream",
     "text": [
      "This is how the mask looks like on the original image\n"
     ]
    },
    {
     "data": {
      "text/plain": [
       "<matplotlib.image.AxesImage at 0x10e7550f0>"
      ]
     },
     "execution_count": 5,
     "metadata": {},
     "output_type": "execute_result"
    },
    {
     "data": {
      "image/png": "[encoded data removed]",
      "text/plain": [
       "<matplotlib.figure.Figure at 0x10d594ac8>"
      ]
     },
     "metadata": {},
     "output_type": "display_data"
    }
   ],
   "source": [
    "test = cv2.warpPerspective(roi, np.linalg.inv(M), (1280,720), flags=cv2.INTER_LINEAR)\n",
    "print(\"This is how the mask looks like on the original image\")\n",
    "plt.imshow(test,cmap='gray')"
   ]
  },
  {
   "cell_type": "markdown",
   "metadata": {},
   "source": [
    "## Filters"
   ]
  },
  {
   "cell_type": "code",
   "execution_count": 6,
   "metadata": {},
   "outputs": [],
   "source": [
    "from Filters import topo_parabolic_bump_filter, abs_sobel_thresh, sob_filter, bump_filter"
   ]
  },
  {
   "cell_type": "markdown",
   "metadata": {},
   "source": [
    "## Lane and LaneFinder\n",
    "available in Lane.py and LaneFinder.py"
   ]
  },
  {
   "cell_type": "code",
   "execution_count": 67,
   "metadata": {},
   "outputs": [],
   "source": [
    "mask_vertices = [[300,420],[200,670],[700,600],[1150,670],[1000,420]]\n",
    "anchor_points = [[592, 453], [695,453],[970, 630],[348, 630]]\n",
    "tranformed_image_size = (720,720)\n",
    "PIX2XM = 3.7/330 #lane width is 3.7 meters, 430 pixels in image\n",
    "PIX2YM = 3.0/60 #dash line is 3 meters long, 60 pixels in image\n",
    "from LaneFinder import LaneFinder\n",
    "############\n",
    "import cv2\n",
    "import numpy as np\n",
    "from Lane import Lane\n",
    "\n",
    "class LaneFinder:\n",
    "    def __init__(self, original_image_size, mask_vertices, anchor_points, tranformed_image_size,\n",
    "                 cali_mtx, cali_dist, convert_x, convert_y,\n",
    "                 window_width=80, window_height=80, margin=100,\n",
    "                 left_lane_bound=None, right_lane_bound=None,\n",
    "                 left_lane_pixel_thres = 600, right_lane_pixel_thres=200,\n",
    "                 smooth_window=5):\n",
    "        self.original_image_size = original_image_size\n",
    "        self.lane = Lane(tranformed_image_size, convert_x, convert_y, smooth_window)\n",
    "        self.height = tranformed_image_size[0]\n",
    "        self.width = tranformed_image_size[1]\n",
    "        self.window_width = window_width\n",
    "        self.window_height = window_height\n",
    "        self.margin = margin\n",
    "        self.level_num = (int)(tranformed_image_size[0]/window_height)\n",
    "        self.window = np.ones(window_width) # Define window template\n",
    "        self.channels = []\n",
    "        [self.idx,self.idy] = np.meshgrid(range(tranformed_image_size[1]),\n",
    "                                          range(tranformed_image_size[0]))\n",
    "        self.calibration_matrix = cali_mtx\n",
    "        self.calibration_dist = cali_dist\n",
    "\n",
    "        self.poly_c0 = np.array([np.nan]*smooth_window)\n",
    "        self.poly_c1 = np.array([np.nan]*smooth_window)\n",
    "        self.poly_c2 = np.array([np.nan]*smooth_window)\n",
    "\n",
    "        src = np.array(anchor_points, dtype = \"float32\")\n",
    "        h_margin = 200\n",
    "        top_margin = 200\n",
    "        bottom_margin = 50\n",
    "        dst = np.array([[h_margin, top_margin],\n",
    "                        [tranformed_image_size[0] - h_margin, top_margin],\n",
    "                        [tranformed_image_size[0] - h_margin, tranformed_image_size[1] - bottom_margin],\n",
    "                        [h_margin, tranformed_image_size[1] - bottom_margin]], dtype = \"float32\")\n",
    "        self.M = cv2.getPerspectiveTransform(src, dst)\n",
    "        self.M_inv = np.linalg.inv(self.M)\n",
    "\n",
    "        roi = np.zeros(original_image_size,dtype=np.uint8)\n",
    "        cv2.fillPoly(roi, np.array([mask_vertices], dtype=np.int32),1)\n",
    "        roi = cv2.undistort(roi, cali_mtx, cali_dist, None, cali_mtx)\n",
    "        self.mask = cv2.warpPerspective(roi, self.M, tranformed_image_size, flags=cv2.INTER_LINEAR)\n",
    "\n",
    "        # set left lane and right lane researching region individually\n",
    "        if left_lane_bound is None:\n",
    "            left_lane_bound = (int(self.width/8),int(self.width*3/8),int(self.height*3/4), self.height)\n",
    "        if right_lane_bound is None:\n",
    "            right_lane_bound = (int(self.width*5/8),int(self.width*7/8),int(self.height*1/8), self.height)\n",
    "        self.lane_bound = [left_lane_bound, right_lane_bound]\n",
    "\n",
    "        self.left_lane_pixel_thres = left_lane_pixel_thres\n",
    "        self.right_lane_pixel_thres = right_lane_pixel_thres\n",
    "        self.texts = [] # store center offset and curvature, as well as other info for debuging\n",
    "\n",
    "    def window_mask(self, center, level):\n",
    "        output = np.zeros((self.height,self.width))\n",
    "        output[int(self.height-(level+1)*self.window_height):int(self.height-level*self.window_height),\n",
    "               max(0,int(center-self.window_width/2)):min(int(center+self.window_width/2),self.width)] = 1\n",
    "        return output\n",
    "\n",
    "    def initial_window_finder(self, image, threshold,\n",
    "                              left_bound, right_bound,\n",
    "                              upper_bound, lower_bound):\n",
    "        # Sum the bottom of the image with the given height vertically to get a 1d array\n",
    "        # Each element in this array counts number of white pixels in that column\n",
    "        v_sum = np.sum(image[upper_bound:lower_bound,left_bound:right_bound], axis=0)\n",
    "        # Convolve the vertical image slice with the window template\n",
    "        conv = np.convolve(self.window,v_sum)\n",
    "        # the peak should have enough signals, and should stand out from the rests (not noise).\n",
    "        if conv.max()>threshold:\n",
    "            center = int(np.argmax(conv)-self.window.size/2 + left_bound)\n",
    "            return center\n",
    "        else:\n",
    "            print(\"No enough pixels detected\")\n",
    "\n",
    "        return -1\n",
    "\n",
    "    def channel_decompose(self, img, saturation_white_thresh=(0, 2),\n",
    "                         saturation_yellow_thresh=(100, 180),\n",
    "                         hue_thresh=(18, 25), value_thresh=(200, 255),\n",
    "                         component_limit=6, min_area=1000,\n",
    "                         ksize=15):\n",
    "\n",
    "\n",
    "        # Convert to HLS color space and separate the V channel\n",
    "        hsv = cv2.cvtColor(img, cv2.COLOR_RGB2HSV).astype(np.float)\n",
    "        h_channel = hsv[:,:,0]\n",
    "        s_channel = hsv[:,:,1]\n",
    "        v_channel = hsv[:,:,2]\n",
    "\n",
    "        v_binary = np.zeros_like(v_channel)\n",
    "        v_binary[(v_channel>=value_thresh[0])&(v_channel<=value_thresh[1])] = 1\n",
    "        #\n",
    "        # r_channel = img[:,:,0]\n",
    "        # r_binary = topo_parabolic_bump_filter(cv2.GaussianBlur(r_channel,(5,5),0),\n",
    "        #                                       x_thresh=(0.9,1), min_area=1000, ksize=ksize)\n",
    "        #\n",
    "        # h_binary = np.zeros_like(h_channel)\n",
    "        # h_binary[(h_channel>=hue_thresh[0])&(h_channel<=hue_thresh[1])] = 1\n",
    "        #\n",
    "        # sw_binary = np.zeros_like(s_channel)\n",
    "        # sw_binary[(s_channel>=saturation_white_thresh[0])&(s_channel<=saturation_white_thresh[1])] = 1\n",
    "        # sy_binary = np.zeros_like(s_channel)\n",
    "        # sy_binary[(s_channel>=saturation_yellow_thresh[0])&(s_channel<=saturation_yellow_thresh[1])] = 1\n",
    "\n",
    "        self.thresholds = [50]\n",
    "\n",
    "        return [v_binary]\n",
    "\n",
    "#         return [v_binary, r_binary,h_binary,sw_binary,sy_binary]\n",
    "#         return [v_channel*v_binary, r_channel*r_binary,h_channel*h_binary,\n",
    "#                 s_channel*sw_binary,s_channel*sy_binary]\n",
    "\n",
    "    def prepare_channels(self, img):\n",
    "        channels = self.channel_decompose(img)\n",
    "        self.channels = [im*self.mask for im in channels] #ignore outside of masked region\n",
    "        return len(channels)\n",
    "\n",
    "    def find_window_per_level(self, image, center, level, threshold):\n",
    "        # Find the best centroid by using past center as a reference\n",
    "        min_index = max(center-self.margin, 0)\n",
    "        max_index = min(center+self.margin, self.width)\n",
    "        v_projection = np.sum(image[int(self.height-(level+1)*self.window_height):\n",
    "                                    int(self.height-level*self.window_height),\n",
    "                                    min_index:max_index],\n",
    "                              axis=0)\n",
    "        # convolve the window into the vertical slice of the image\n",
    "        conv_signal = np.convolve(self.window, v_projection)\n",
    "        peak_idx = np.argmax(conv_signal)\n",
    "        # Update window center only if pixels in that slot exceed our threshold\n",
    "        if (conv_signal[peak_idx]>threshold):\n",
    "            # Use window_width/2 as offset because convolution signal reference is at right side of window,\n",
    "            # not center of window\n",
    "            center = peak_idx+min_index-int(self.window_width/2)\n",
    "        return center\n",
    "\n",
    "    def get_points_in_window(self, image, level, window_center):\n",
    "        points = np.zeros_like(image)\n",
    "        if window_center>=0:\n",
    "            window_mask = self.window_mask(window_center,level)\n",
    "            points = image*window_mask\n",
    "        return points\n",
    "\n",
    "    def init_lane_finder(self, side):\n",
    "        idx = -1\n",
    "        center = -1\n",
    "        # search window center starting from the first channel\n",
    "        # for the current channel, locate the bin with most pixels within the given bound\n",
    "        # bounds are different for left lane and right, and are defined in the initializer.\n",
    "        while center<0 and idx<len(self.channels)-1:\n",
    "            idx += 1 # move to the next channel if cannot find a window with peak in this channel\n",
    "            center = self.initial_window_finder(self.channels[idx],self.thresholds[idx],\n",
    "                                                self.lane_bound[side][0], self.lane_bound[side][1],\n",
    "                                                self.lane_bound[side][2], self.lane_bound[side][3])\n",
    "\n",
    "        self.window_centroids[side].append((idx, center))\n",
    "        points = np.zeros((self.height, self.width))\n",
    "        if center>=0:\n",
    "            # when a window with peak is found\n",
    "            # slice the birdview image into several layers and search for peak in each layer.\n",
    "            points = self.get_points_in_window(self.channels[idx], 0, center)\n",
    "            for level in range(1,self.level_num):\n",
    "                center = self.find_window_per_level(self.channels[idx], center,\n",
    "                                                    level, self.thresholds[idx])\n",
    "                level_points = self.get_points_in_window(self.channels[idx], level, center)\n",
    "                points = np.maximum(points,level_points)\n",
    "                self.window_centroids[side].append((idx, center))\n",
    "        else:\n",
    "            print(\"Could not find a peak window to start with in all channels\")\n",
    "        if side==0:\n",
    "            (self.lane.left_y, self.lane.left_x) = np.where(points>0)\n",
    "            print(self.lane.left_x.size)\n",
    "            self.lane.polyfit_left()\n",
    "        else:\n",
    "            (self.lane.right_y, self.lane.right_x) = np.where(points>0)\n",
    "            self.lane.polyfit_right()\n",
    "\n",
    "    def tube_lane_finder(self, img, side):\n",
    "        tube_mask = np.zeros_like(img)\n",
    "        if side==0: # left lane\n",
    "            search_radius = 10\n",
    "            while (search_radius<self.margin and\n",
    "                   self.lane.left_x.size<self.left_lane_pixel_thres):\n",
    "                tube_mask[np.abs(self.idx-np.repeat([self.lane.left_fitx],\n",
    "                                           self.width,axis=0).T)<search_radius]=1\n",
    "                l_points = img*tube_mask\n",
    "                (self.lane.left_y, self.lane.left_x) = np.where(l_points>0)\n",
    "                search_radius += 10\n",
    "\n",
    "            return self.lane.polyfit_left()\n",
    "\n",
    "        else:  # right lane\n",
    "            search_radius = 10\n",
    "            while (search_radius<self.margin and\n",
    "                   self.lane.right_x.size<self.right_lane_pixel_thres):\n",
    "                tube_mask[np.abs(self.idx-np.repeat([self.lane.right_fitx],\n",
    "                                               self.width,axis=0).T)<search_radius]=1\n",
    "                r_points = img*tube_mask\n",
    "                (self.lane.right_y, self.lane.right_x) = np.where(r_points>0)\n",
    "                search_radius += 10\n",
    "\n",
    "            return self.lane.polyfit_right()\n",
    "\n",
    "    def draw_lane(self):\n",
    "        # Draw the lane pixels and lane curve\n",
    "        left_bound_idx, right_bound_idx = None, None\n",
    "        if self.lane.left_x.size>0:\n",
    "            # Make left lane pixels blue\n",
    "            self.lane.canvas[self.lane.left_y,self.lane.left_x,2] = 255\n",
    "        if self.lane.left_detected:\n",
    "            # Draw polynomial\n",
    "            self.lane.canvas[self.lane.ploty,self.lane.left_fitx,0:2] = 155\n",
    "            left_bound_idx = np.repeat([self.lane.left_fitx],\n",
    "                                        self.width,axis=0).T\n",
    "        if self.lane.right_x.size>0:\n",
    "            #right lane pixels red,\n",
    "            self.lane.canvas[self.lane.right_y,self.lane.right_x,0] = 255\n",
    "        if self.lane.right_detected:\n",
    "            self.lane.canvas[self.lane.ploty,self.lane.right_fitx,0:2] = 155\n",
    "#             self.lane.canvas[self.lane.ploty,self.lane.right_fitx,2] = 155\n",
    "            right_bound_idx = np.repeat([self.lane.right_fitx], self.width,axis=0).T\n",
    "        elif left_bound_idx is not None:\n",
    "            right_bound_idx = left_bound_idx + self.lane.width\n",
    "\n",
    "#         if (left_bound_idx is not None) and (right_bound_idx is not None):\n",
    "#             self.lane.canvas[(self.idx-left_bound_idx>0)&(self.idx-right_bound_idx<0),1] = 50\n",
    "        return self.lane.canvas\n",
    "\n",
    "    def draw_windows(self):\n",
    "        canvas = np.zeros((self.height,self.width))\n",
    "        for side in [0,1]:\n",
    "            level = -1\n",
    "            for _, window_center in self.window_centroids[side]:\n",
    "                level += 1\n",
    "                canvas = np.maximum(canvas, self.window_mask(window_center,level))\n",
    "        return canvas\n",
    "    \n",
    "    def draw_result(self, original_img):\n",
    "        new_img = np.copy(original_img)\n",
    "        font = cv2.FONT_HERSHEY_DUPLEX\n",
    "        text_v_position = 70\n",
    "        for text in self.texts:\n",
    "            cv2.putText(new_img, text, (40, text_v_position),\n",
    "                        font, 1.0, (200,255,155), 2, cv2.LINE_AA)\n",
    "            text_v_position += 30\n",
    "\n",
    "        return new_img\n",
    "\n",
    "    def pipeline(self, img):\n",
    "        # reset information for the current frame\n",
    "        self.lane.reset_canvas()\n",
    "        self.texts = []\n",
    "        self.window_centroids = [[],[]]\n",
    "\n",
    "        # undistort and apply perspective transformation to get birdview\n",
    "        warped_img = cv2.undistort(img, self.calibration_matrix, self.calibration_dist,\n",
    "                                   None, self.calibration_matrix)\n",
    "        warped_img = cv2.warpPerspective(warped_img, self.M,\n",
    "                                         (self.height,self.width),\n",
    "                                         flags=cv2.INTER_LINEAR)\n",
    "\n",
    "        # apply different filters to create candidate channels\n",
    "        L = self.prepare_channels(warped_img)\n",
    "#         return np.dstack((self.channels[0],self.channels[0],self.channels[0]))\n",
    "\n",
    "        text = ''\n",
    "        # If lane-line is detected from the previous frame,\n",
    "        # then use tube_lane_finder\n",
    "        if self.lane.left_detected and self.lane.left_fitx is not None:\n",
    "            channel_left_idx = 0\n",
    "            while channel_left_idx<L and (not self.tube_lane_finder(self.channels[channel_left_idx],0)):\n",
    "                channel_left_idx += 1\n",
    "            text += 'L channel:' + str(channel_left_idx)+' pix:'+ str(self.lane.left_x.size) + ', '\n",
    "        else: # otherwise search from scratch\n",
    "            text += 'L init '\n",
    "            self.init_lane_finder(side=0)\n",
    "\n",
    "        # same process applied to right lane-line\n",
    "        if self.lane.right_detected and self.lane.right_fitx is not None:\n",
    "            channel_right_idx = 0\n",
    "            while channel_right_idx<L and (not self.tube_lane_finder(self.channels[channel_right_idx],1)):\n",
    "                channel_right_idx += 1\n",
    "            text += 'R channel:' + str(channel_right_idx)+' pix:'+ str(self.lane.right_x.size)\n",
    "        else:\n",
    "            text += 'R init '\n",
    "            self.init_lane_finder(side=1)\n",
    "\n",
    "        if len(text)>0: self.texts.append(text)\n",
    "\n",
    "        if (self.lane.left_x.size>0) and (self.lane.right_x.size>0):\n",
    "            # compute curvature and center offset\n",
    "            (curvature, center_offset) = self.lane.analyze()\n",
    "            self.texts.append(\"Curvature: \"+\"{:04.1f}\".format(curvature) + 'm')\n",
    "            self.texts.append(\"Distance from Center: \"+\"{:04.3f}\".format(center_offset)+ 'm')\n",
    "\n",
    "        return self.draw_lane()\n",
    "        \n",
    "        overlay = cv2.warpPerspective(self.draw_lane(), self.M_inv,\n",
    "                                      (self.original_image_size[1],self.original_image_size[0]),\n",
    "                                      flags=cv2.INTER_LINEAR)\n",
    "        return self.draw_result(cv2.addWeighted(img, 1, overlay, 1, 0.0))\n"
   ]
  },
  {
   "cell_type": "markdown",
   "metadata": {},
   "source": [
    "## Test on single image"
   ]
  },
  {
   "cell_type": "code",
   "execution_count": 68,
   "metadata": {},
   "outputs": [
    {
     "name": "stdout",
     "output_type": "stream",
     "text": [
      "(720, 1280, 3)\n",
      "14954\n"
     ]
    },
    {
     "data": {
      "image/png": "[encoded data removed]",
      "text/plain": [
       "<matplotlib.figure.Figure at 0x10e16a5c0>"
      ]
     },
     "metadata": {},
     "output_type": "display_data"
    }
   ],
   "source": [
    "test_img = cv2.imread(\"test_images/test6.jpg\")\n",
    "print(test_img.shape)\n",
    "lane_finder = LaneFinder((720,1280), mask_vertices, anchor_points, tranformed_image_size, \n",
    "                         mtx, dist, PIX2XM, PIX2YM, window_width=80, window_height=80, margin=100)\n",
    "test_img = cv2.cvtColor(test_img, cv2.COLOR_BGR2RGB)\n",
    "res = lane_finder.pipeline(test_img)\n",
    "plt.imshow(res)\n",
    "mpimg.imsave(\"test6_out0.png\", res)"
   ]
  },
  {
   "cell_type": "code",
   "execution_count": 54,
   "metadata": {},
   "outputs": [
    {
     "data": {
      "text/plain": [
       "array([284, 273, 273, 273, 273, 273, 273, 255, 255, 255, 255, 255, 255,\n",
       "       239, 239, 239, 239, 239, 239, 226, 226, 226])"
      ]
     },
     "execution_count": 54,
     "metadata": {},
     "output_type": "execute_result"
    }
   ],
   "source": [
    "lane_finder.lane.left_x"
   ]
  },
  {
   "cell_type": "code",
   "execution_count": 55,
   "metadata": {},
   "outputs": [
    {
     "data": {
      "text/plain": [
       "[[(0, 189),\n",
       "  (0, 266),\n",
       "  (0, 279),\n",
       "  (0, 295),\n",
       "  (0, 313),\n",
       "  (0, 324),\n",
       "  (0, 324),\n",
       "  (0, 324),\n",
       "  (0, 324)],\n",
       " [(0, 554),\n",
       "  (0, 579),\n",
       "  (0, 592),\n",
       "  (0, 599),\n",
       "  (0, 599),\n",
       "  (0, 634),\n",
       "  (0, 634),\n",
       "  (0, 675),\n",
       "  (0, 675)]]"
      ]
     },
     "execution_count": 55,
     "metadata": {},
     "output_type": "execute_result"
    }
   ],
   "source": [
    "lane_finder.window_centroids"
   ]
  },
  {
   "cell_type": "markdown",
   "metadata": {},
   "source": [
    "## Test on project video"
   ]
  },
  {
   "cell_type": "code",
   "execution_count": null,
   "metadata": {},
   "outputs": [],
   "source": [
    "lane_finder = LaneFinder((720,1280), mask_vertices, anchor_points, tranformed_image_size, \n",
    "                         mtx, dist, PIX2XM, PIX2YM, window_width=50, window_height=80, margin=100)\n",
    "\n",
    "input_vid = 'project_video.mp4'\n",
    "output = input_vid[:-4]+\"_output.mp4\"\n",
    "clip2 = VideoFileClip(input_vid)\n",
    "# clip2 = clip2.subclip(36)\n",
    "challenge_clip = clip2.fl_image(lane_finder.pipeline)\n",
    "%time challenge_clip.write_videofile(output, audio=False)\n"
   ]
  },
  {
   "cell_type": "code",
   "execution_count": null,
   "metadata": {},
   "outputs": [],
   "source": [
    "lane_finder = LaneFinder((720,1280), mask_vertices, anchor_points, tranformed_image_size, \n",
    "                         mtx, dist, PIX2XM, PIX2YM, window_width=50, window_height=80, margin=100)\n",
    "\n",
    "input_vid = 'challenge_video.mp4'\n",
    "output = input_vid[:-4]+\"_overlay_polyfinder_curvature.mp4\"\n",
    "clip2 = VideoFileClip(input_vid)\n",
    "# clip2 = clip2.subclip(36)\n",
    "challenge_clip = clip2.fl_image(lane_finder.pipeline)\n",
    "%time challenge_clip.write_videofile(output, audio=False)"
   ]
  },
  {
   "cell_type": "code",
   "execution_count": null,
   "metadata": {},
   "outputs": [],
   "source": [
    "lane_finder = LaneFinder((720,1280), mask_vertices, anchor_points, tranformed_image_size, \n",
    "                         mtx, dist, PIX2XM, PIX2YM, window_width=50, window_height=80, margin=100)\n",
    "\n",
    "input_vid = 'harder_challenge_video.mp4'\n",
    "output = input_vid[:-4]+\"_overlay_polyfinder_curvature.mp4\"\n",
    "clip2 = VideoFileClip(input_vid)\n",
    "# clip2 = clip2.subclip(36)\n",
    "challenge_clip = clip2.fl_image(lane_finder.pipeline)\n",
    "%time challenge_clip.write_videofile(output, audio=False)"
   ]
  },
  {
   "cell_type": "code",
   "execution_count": null,
   "metadata": {},
   "outputs": [],
   "source": [
    "from moviepy.editor import *\n",
    "\n",
    "clip = (VideoFileClip(\"project_video_channels/project_video_channel_0.mp4\")\n",
    "        .resize(0.2))\n",
    "clip.speedx(3).write_gif(\"channel0.gif\")"
   ]
  },
  {
   "cell_type": "code",
   "execution_count": null,
   "metadata": {
    "collapsed": true
   },
   "outputs": [],
   "source": [
    "clip = VideoFileClip('myanimation.gif') # can be gif or movie\n",
    "for frame in clip.iter_frames():\n",
    "    mpimg.imsave(\"channel0.png\",frame)\n",
    "    break"
   ]
  }
 ],
 "metadata": {
  "kernelspec": {
   "display_name": "Python 3",
   "language": "python",
   "name": "python3"
  },
  "language_info": {
   "codemirror_mode": {
    "name": "ipython",
    "version": 3
   },
   "file_extension": ".py",
   "mimetype": "text/x-python",
   "name": "python",
   "nbconvert_exporter": "python",
   "pygments_lexer": "ipython3",
   "version": "3.5.2"
  },
  "widgets": {
   "state": {},
   "version": "1.1.2"
  }
 },
 "nbformat": 4,
 "nbformat_minor": 2
}
