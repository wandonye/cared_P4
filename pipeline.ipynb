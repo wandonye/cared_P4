{
 "cells": [
  {
   "cell_type": "code",
   "execution_count": 10,
   "metadata": {
    "collapsed": true
   },
   "outputs": [],
   "source": [
    "import numpy as np\n",
    "import cv2\n",
    "import glob\n",
    "from matplotlib import pyplot as plt\n",
    "import matplotlib.image as mpimg\n",
    "import matplotlib.cm as cm\n",
    "import math\n",
    "from collections import defaultdict\n",
    "import operator\n",
    "import heapq\n",
    "from moviepy.editor import *\n",
    "\n",
    "\n",
    "%matplotlib inline"
   ]
  },
  {
   "cell_type": "markdown",
   "metadata": {},
   "source": [
    "## Camera Calibration"
   ]
  },
  {
   "cell_type": "code",
   "execution_count": 2,
   "metadata": {
    "collapsed": true
   },
   "outputs": [],
   "source": [
    "check_imgs = [\"camera_cal/calibration\"+str(i)+\".jpg\" for i in range(1,21)]\n",
    "grid_sizes = [(9,5),(9,6),(9,6),(6,5),(7,6)]+ [(9,6)]*15\n",
    "\n",
    "def calibration_matrix(imgs, grid_sizes):\n",
    "    objpoints = []\n",
    "    imgpoints = []\n",
    "    for idx, fname in enumerate(imgs):\n",
    "        img = cv2.imread(fname)\n",
    "        gray = cv2.cvtColor(img, cv2.COLOR_BGR2GRAY)\n",
    "        grid_size = grid_sizes[idx]\n",
    "        # Find the chessboard corners\n",
    "        ret, corners = cv2.findChessboardCorners(gray, grid_size, None)\n",
    "\n",
    "        # If found, add object points, image points\n",
    "        if ret == True:\n",
    "            objp = np.zeros((grid_size[0]*grid_size[1],3), np.float32)\n",
    "            objp[:,:2] = np.mgrid[0:grid_size[0], 0:grid_size[1]].T.reshape(-1,2)\n",
    "\n",
    "            objpoints.append(objp)\n",
    "            imgpoints.append(corners)\n",
    "            \n",
    "    ret, mtx, dist, rvecs, tvecs = cv2.calibrateCamera(objpoints, imgpoints, gray.shape[::-1], None, None)\n",
    "    return (mtx,dist)\n",
    "\n",
    "mtx, dist = calibration_matrix(check_imgs,grid_sizes)"
   ]
  },
  {
   "cell_type": "markdown",
   "metadata": {},
   "source": [
    "## Transformation to Birdview"
   ]
  },
  {
   "cell_type": "code",
   "execution_count": 3,
   "metadata": {
    "collapsed": true
   },
   "outputs": [],
   "source": [
    "img_size = (720,720)\n",
    "\n",
    "def perspective_transformation(target_img_size):\n",
    "    src = np.array([[592, 453], \n",
    "                    [695,453],\n",
    "                    [970, 630],\n",
    "                    [348, 630]], dtype = \"float32\")\n",
    "\n",
    "    h_margin = 200\n",
    "    top_margin = 200\n",
    "    bottom_margin = 30\n",
    "    dst = np.array([[h_margin, top_margin], \n",
    "                    [target_img_size[0] - h_margin, top_margin],\n",
    "                    [target_img_size[0] - h_margin, target_img_size[1] - bottom_margin],\n",
    "                    [h_margin, target_img_size[1] - bottom_margin]], dtype = \"float32\")\n",
    "    return cv2.getPerspectiveTransform(src, dst)\n",
    "\n",
    "M = perspective_transformation(img_size)\n",
    "M_inv = np.linalg.inv(M)"
   ]
  },
  {
   "cell_type": "markdown",
   "metadata": {},
   "source": [
    "## Define Mask"
   ]
  },
  {
   "cell_type": "code",
   "execution_count": 4,
   "metadata": {},
   "outputs": [
    {
     "name": "stdout",
     "output_type": "stream",
     "text": [
      "This is how the mask looks like on the birdview image\n"
     ]
    },
    {
     "data": {
      "text/plain": [
       "<matplotlib.image.AxesImage at 0x110c160f0>"
      ]
     },
     "execution_count": 4,
     "metadata": {},
     "output_type": "execute_result"
    },
    {
     "data": {
      "image/png": "[encoded data removed]",
      "text/plain": [
       "<matplotlib.figure.Figure at 0x108da57f0>"
      ]
     },
     "metadata": {},
     "output_type": "display_data"
    }
   ],
   "source": [
    "def region_of_interest(shape, vertices):\n",
    "    #defining a blank mask to start with\n",
    "    mask = np.zeros(shape,dtype=np.uint8)\n",
    "    cv2.fillPoly(mask, np.array([vertices], dtype=np.int32),1)\n",
    "    return mask\n",
    "roi = region_of_interest((720,1280), [[300,420],[200,670],[700,600],[1150,670],[1000,420]])\n",
    "roi = cv2.undistort(roi, mtx, dist, None, mtx)\n",
    "roi = cv2.warpPerspective(roi, M, img_size, flags=cv2.INTER_LINEAR)\n",
    "print(\"This is how the mask looks like on the birdview image\")\n",
    "plt.imshow(roi,cmap='gray')"
   ]
  },
  {
   "cell_type": "code",
   "execution_count": 5,
   "metadata": {},
   "outputs": [
    {
     "name": "stdout",
     "output_type": "stream",
     "text": [
      "This is how the mask looks like on the original image\n"
     ]
    },
    {
     "data": {
      "text/plain": [
       "<matplotlib.image.AxesImage at 0x110f2df28>"
      ]
     },
     "execution_count": 5,
     "metadata": {},
     "output_type": "execute_result"
    },
    {
     "data": {
      "image/png": "[encoded data removed]",
      "text/plain": [
       "<matplotlib.figure.Figure at 0x10aae6ef0>"
      ]
     },
     "metadata": {},
     "output_type": "display_data"
    }
   ],
   "source": [
    "test = cv2.warpPerspective(roi, np.linalg.inv(M), (1280,720), flags=cv2.INTER_LINEAR)\n",
    "print(\"This is how the mask looks like on the original image\")\n",
    "plt.imshow(test,cmap='gray')"
   ]
  },
  {
   "cell_type": "markdown",
   "metadata": {},
   "source": [
    "## Filters"
   ]
  },
  {
   "cell_type": "code",
   "execution_count": 6,
   "metadata": {},
   "outputs": [],
   "source": [
    "from Filters import topo_parabolic_bump_filter, abs_sobel_thresh, sob_filter, bump_filter"
   ]
  },
  {
   "cell_type": "markdown",
   "metadata": {},
   "source": [
    "## Lane and LaneFinder\n",
    "available in Lane.py and LaneFinder.py"
   ]
  },
  {
   "cell_type": "code",
   "execution_count": 7,
   "metadata": {},
   "outputs": [],
   "source": [
    "mask_vertices = [[300,420],[200,670],[700,600],[1150,670],[1000,420]]\n",
    "anchor_points = [[592, 453], [695,453],[970, 630],[348, 630]]\n",
    "tranformed_image_size = (720,720)\n",
    "PIX2XM = 3.7/330 #lane width is 3.7 meters, 430 pixels in image\n",
    "PIX2YM = 3.0/60 #dash line is 3 meters long, 60 pixels in image\n",
    "from LaneFinder import LaneFinder"
   ]
  },
  {
   "cell_type": "markdown",
   "metadata": {},
   "source": [
    "## Test on single image"
   ]
  },
  {
   "cell_type": "code",
   "execution_count": 8,
   "metadata": {},
   "outputs": [
    {
     "name": "stdout",
     "output_type": "stream",
     "text": [
      "(720, 1280, 3)\n"
     ]
    },
    {
     "data": {
      "image/png": "[encoded data removed]",
      "text/plain": [
       "<matplotlib.figure.Figure at 0x110af5518>"
      ]
     },
     "metadata": {},
     "output_type": "display_data"
    }
   ],
   "source": [
    "test_img = cv2.imread(\"test_images/test6.jpg\")\n",
    "print(test_img.shape)\n",
    "lane_finder = LaneFinder((720,1280), mask_vertices, anchor_points, tranformed_image_size, \n",
    "                         mtx, dist, PIX2XM, PIX2YM, window_width=80, window_height=80, margin=100)\n",
    "test_img = cv2.cvtColor(test_img, cv2.COLOR_BGR2RGB)\n",
    "res = lane_finder.pipeline(test_img)\n",
    "plt.imshow(res)\n",
    "mpimg.imsave(\"test6_final.png\", res)"
   ]
  },
  {
   "cell_type": "markdown",
   "metadata": {},
   "source": [
    "## Test on project video"
   ]
  },
  {
   "cell_type": "code",
   "execution_count": 11,
   "metadata": {},
   "outputs": [
    {
     "name": "stdout",
     "output_type": "stream",
     "text": [
      "[MoviePy] >>>> Building video project_video_output.mp4\n",
      "[MoviePy] Writing video project_video_output.mp4\n"
     ]
    },
    {
     "name": "stderr",
     "output_type": "stream",
     "text": [
      " 49%|████▉     | 620/1261 [00:59<01:07,  9.49it/s]"
     ]
    },
    {
     "name": "stdout",
     "output_type": "stream",
     "text": [
      "failed lane_checker\n"
     ]
    },
    {
     "name": "stderr",
     "output_type": "stream",
     "text": [
      "100%|█████████▉| 1260/1261 [02:06<00:00, 10.15it/s]\n"
     ]
    },
    {
     "name": "stdout",
     "output_type": "stream",
     "text": [
      "[MoviePy] Done.\n",
      "[MoviePy] >>>> Video ready: project_video_output.mp4 \n",
      "\n",
      "CPU times: user 2min 37s, sys: 27 s, total: 3min 4s\n",
      "Wall time: 2min 7s\n"
     ]
    }
   ],
   "source": [
    "lane_finder = LaneFinder((720,1280), mask_vertices, anchor_points, tranformed_image_size, \n",
    "                         mtx, dist, PIX2XM, PIX2YM, window_width=50, window_height=80, margin=100)\n",
    "\n",
    "input_vid = 'project_video.mp4'\n",
    "output = input_vid[:-4]+\"_output.mp4\"\n",
    "clip2 = VideoFileClip(input_vid)\n",
    "challenge_clip = clip2.fl_image(lane_finder.pipeline)\n",
    "%time challenge_clip.write_videofile(output, audio=False)\n"
   ]
  },
  {
   "cell_type": "code",
   "execution_count": 14,
   "metadata": {
    "collapsed": true
   },
   "outputs": [],
   "source": [
    "class LaneFinderMoreChannel(LaneFinder):\n",
    "    def channel_decompose(self, img, saturation_white_thresh=(0, 2),\n",
    "                         saturation_yellow_thresh=(100, 180),\n",
    "                         hue_thresh=(18, 25), value_thresh=(200, 255),\n",
    "                         component_limit=6, min_area=1000,\n",
    "                         ksize=15):\n",
    "        \n",
    "        # Convert to HLS color space and separate the V channel\n",
    "        hsv = cv2.cvtColor(img, cv2.COLOR_RGB2HSV).astype(np.float)\n",
    "        h_channel = hsv[:,:,0]\n",
    "        s_channel = hsv[:,:,1]\n",
    "        v_channel = hsv[:,:,2]\n",
    "\n",
    "        v_binary = np.zeros_like(v_channel)\n",
    "        v_binary[(v_channel>=value_thresh[0])&(v_channel<=value_thresh[1])] = 1\n",
    "        \n",
    "        r_channel = img[:,:,0]\n",
    "        r_binary = topo_parabolic_bump_filter(cv2.GaussianBlur(r_channel,(5,5),0),\n",
    "                                              x_thresh=(0.9,1), min_area=1000, ksize=ksize)\n",
    "        \n",
    "        h_binary = np.zeros_like(h_channel)\n",
    "        h_binary[(h_channel>=hue_thresh[0])&(h_channel<=hue_thresh[1])] = 1\n",
    "        \n",
    "        sw_binary = np.zeros_like(s_channel)\n",
    "        sw_binary[(s_channel>=saturation_white_thresh[0])&(s_channel<=saturation_white_thresh[1])] = 1\n",
    "        sy_binary = np.zeros_like(s_channel)\n",
    "        sy_binary[(s_channel>=saturation_yellow_thresh[0])&(s_channel<=saturation_yellow_thresh[1])] = 1\n",
    "\n",
    "        self.thresholds = [50,50,50,10,10]\n",
    "\n",
    "        return [v_binary, r_binary,h_binary,sw_binary,sy_binary]\n",
    "#         return [v_channel*v_binary, r_channel*r_binary,h_channel*h_binary,\n",
    "#                 s_channel*sw_binary,s_channel*sy_binary]"
   ]
  },
  {
   "cell_type": "code",
   "execution_count": 15,
   "metadata": {},
   "outputs": [
    {
     "name": "stdout",
     "output_type": "stream",
     "text": [
      "[MoviePy] >>>> Building video challenge_video_output.mp4\n",
      "[MoviePy] Writing video challenge_video_output.mp4\n"
     ]
    },
    {
     "name": "stderr",
     "output_type": "stream",
     "text": [
      "\r",
      "  0%|          | 0/485 [00:00<?, ?it/s]"
     ]
    },
    {
     "name": "stdout",
     "output_type": "stream",
     "text": [
      "failed lane_checker"
     ]
    },
    {
     "name": "stderr",
     "output_type": "stream",
     "text": [
      "\r",
      "  0%|          | 1/485 [00:00<01:57,  4.12it/s]"
     ]
    },
    {
     "name": "stdout",
     "output_type": "stream",
     "text": [
      "\n"
     ]
    },
    {
     "name": "stderr",
     "output_type": "stream",
     "text": [
      "\r",
      "  0%|          | 2/485 [00:00<01:55,  4.17it/s]"
     ]
    },
    {
     "name": "stdout",
     "output_type": "stream",
     "text": [
      "failed lane_checker\n"
     ]
    },
    {
     "name": "stderr",
     "output_type": "stream",
     "text": [
      "  2%|▏         | 11/485 [00:02<01:56,  4.08it/s]"
     ]
    },
    {
     "name": "stdout",
     "output_type": "stream",
     "text": [
      "failed lane_checker\n",
      "failed lane_checker\n",
      "failed lane_checker\n",
      "failed lane_checker\n",
      "failed lane_checker\n"
     ]
    },
    {
     "name": "stderr",
     "output_type": "stream",
     "text": [
      "  3%|▎         | 13/485 [00:03<01:46,  4.42it/s]"
     ]
    },
    {
     "name": "stdout",
     "output_type": "stream",
     "text": [
      "failed lane_checker\n",
      "failed lane_checker\n"
     ]
    },
    {
     "name": "stderr",
     "output_type": "stream",
     "text": [
      "  3%|▎         | 15/485 [00:03<01:39,  4.74it/s]"
     ]
    },
    {
     "name": "stdout",
     "output_type": "stream",
     "text": [
      "failed lane_checker\n",
      "failed lane_checker"
     ]
    },
    {
     "name": "stderr",
     "output_type": "stream",
     "text": [
      "  6%|▋         | 31/485 [00:07<01:31,  4.94it/s]"
     ]
    },
    {
     "name": "stdout",
     "output_type": "stream",
     "text": [
      "\n",
      "failed lane_checker\n"
     ]
    },
    {
     "name": "stderr",
     "output_type": "stream",
     "text": [
      "  8%|▊         | 39/485 [00:09<01:34,  4.74it/s]"
     ]
    },
    {
     "name": "stdout",
     "output_type": "stream",
     "text": [
      "failed lane_checker\n"
     ]
    },
    {
     "name": "stderr",
     "output_type": "stream",
     "text": [
      " 10%|▉         | 47/485 [00:10<01:17,  5.67it/s]"
     ]
    },
    {
     "name": "stdout",
     "output_type": "stream",
     "text": [
      "failed lane_checker\n",
      "failed lane_checker\n",
      "failed lane_checker\n",
      "failed lane_checker\n"
     ]
    },
    {
     "name": "stderr",
     "output_type": "stream",
     "text": [
      " 12%|█▏        | 60/485 [00:13<01:16,  5.56it/s]"
     ]
    },
    {
     "name": "stdout",
     "output_type": "stream",
     "text": [
      "failed lane_checker\n",
      "failed lane_checker\n",
      "failed lane_checker\n",
      "failed lane_checker\n"
     ]
    },
    {
     "name": "stderr",
     "output_type": "stream",
     "text": [
      " 13%|█▎        | 64/485 [00:14<01:54,  3.68it/s]"
     ]
    },
    {
     "name": "stdout",
     "output_type": "stream",
     "text": [
      "failed lane_checker\n"
     ]
    },
    {
     "name": "stderr",
     "output_type": "stream",
     "text": [
      " 15%|█▍        | 72/485 [00:15<01:31,  4.50it/s]"
     ]
    },
    {
     "name": "stdout",
     "output_type": "stream",
     "text": [
      "failed lane_checker\n",
      "failed lane_checker\n"
     ]
    },
    {
     "name": "stderr",
     "output_type": "stream",
     "text": [
      "\r",
      " 15%|█▌        | 73/485 [00:16<01:30,  4.54it/s]"
     ]
    },
    {
     "name": "stdout",
     "output_type": "stream",
     "text": [
      "failed lane_checker\n",
      "failed lane_checker\n",
      "failed lane_checker\n",
      "failed lane_checker\n",
      "failed lane_checker\n",
      "failed lane_checker\n"
     ]
    },
    {
     "name": "stderr",
     "output_type": "stream",
     "text": [
      " 17%|█▋        | 82/485 [00:18<01:26,  4.64it/s]"
     ]
    },
    {
     "name": "stdout",
     "output_type": "stream",
     "text": [
      "failed lane_checker\n",
      "failed lane_checker\n",
      "failed lane_checker\n",
      "failed lane_checker\n",
      "failed lane_checker\n",
      "failed lane_checker\n"
     ]
    },
    {
     "name": "stderr",
     "output_type": "stream",
     "text": [
      " 19%|█▉        | 92/485 [00:19<01:15,  5.21it/s]"
     ]
    },
    {
     "name": "stdout",
     "output_type": "stream",
     "text": [
      "failed lane_checker\n",
      "failed lane_checker\n",
      "failed lane_checker\n",
      "failed lane_checker\n"
     ]
    },
    {
     "name": "stderr",
     "output_type": "stream",
     "text": [
      " 20%|██        | 97/485 [00:21<01:15,  5.14it/s]"
     ]
    },
    {
     "name": "stdout",
     "output_type": "stream",
     "text": [
      "failed lane_checker\n",
      "failed lane_checker\n",
      "failed lane_checker\n",
      "failed lane_checker\n"
     ]
    },
    {
     "name": "stderr",
     "output_type": "stream",
     "text": [
      " 21%|██        | 103/485 [00:22<01:21,  4.66it/s]"
     ]
    },
    {
     "name": "stdout",
     "output_type": "stream",
     "text": [
      "failed lane_checker\n",
      "failed lane_checker"
     ]
    },
    {
     "name": "stderr",
     "output_type": "stream",
     "text": [
      " 22%|██▏       | 108/485 [00:23<01:14,  5.08it/s]"
     ]
    },
    {
     "name": "stdout",
     "output_type": "stream",
     "text": [
      "\n",
      "failed lane_checker\n"
     ]
    },
    {
     "name": "stderr",
     "output_type": "stream",
     "text": [
      " 23%|██▎       | 110/485 [00:23<01:13,  5.08it/s]"
     ]
    },
    {
     "name": "stdout",
     "output_type": "stream",
     "text": [
      "failed lane_checker\n"
     ]
    },
    {
     "name": "stderr",
     "output_type": "stream",
     "text": [
      " 23%|██▎       | 112/485 [00:24<01:22,  4.52it/s]"
     ]
    },
    {
     "name": "stdout",
     "output_type": "stream",
     "text": [
      "failed lane_checker\n"
     ]
    },
    {
     "name": "stderr",
     "output_type": "stream",
     "text": [
      "\r",
      " 23%|██▎       | 113/485 [00:24<01:26,  4.31it/s]"
     ]
    },
    {
     "name": "stdout",
     "output_type": "stream",
     "text": [
      "failed lane_checker\n"
     ]
    },
    {
     "name": "stderr",
     "output_type": "stream",
     "text": [
      " 26%|██▌       | 124/485 [00:26<01:20,  4.48it/s]"
     ]
    },
    {
     "name": "stdout",
     "output_type": "stream",
     "text": [
      "failed lane_checker\n",
      "failed lane_checker\n"
     ]
    },
    {
     "name": "stderr",
     "output_type": "stream",
     "text": [
      " 26%|██▌       | 126/485 [00:27<01:14,  4.82it/s]"
     ]
    },
    {
     "name": "stdout",
     "output_type": "stream",
     "text": [
      "failed lane_checker\n",
      "failed lane_checker\n",
      "failed lane_checker\n"
     ]
    },
    {
     "name": "stderr",
     "output_type": "stream",
     "text": [
      "\r",
      " 26%|██▌       | 127/485 [00:27<01:11,  4.99it/s]"
     ]
    },
    {
     "name": "stdout",
     "output_type": "stream",
     "text": [
      "failed lane_checker\n"
     ]
    },
    {
     "name": "stderr",
     "output_type": "stream",
     "text": [
      " 27%|██▋       | 129/485 [00:27<01:26,  4.13it/s]"
     ]
    },
    {
     "name": "stdout",
     "output_type": "stream",
     "text": [
      "failed lane_checker\n",
      "failed lane_checker\n"
     ]
    },
    {
     "name": "stderr",
     "output_type": "stream",
     "text": [
      " 27%|██▋       | 131/485 [00:28<01:53,  3.12it/s]"
     ]
    },
    {
     "name": "stdout",
     "output_type": "stream",
     "text": [
      "failed lane_checker\n"
     ]
    },
    {
     "name": "stderr",
     "output_type": "stream",
     "text": [
      " 28%|██▊       | 134/485 [00:29<02:06,  2.77it/s]"
     ]
    },
    {
     "name": "stdout",
     "output_type": "stream",
     "text": [
      "failed lane_checker\n"
     ]
    },
    {
     "name": "stderr",
     "output_type": "stream",
     "text": [
      "\r",
      " 28%|██▊       | 135/485 [00:30<01:50,  3.17it/s]"
     ]
    },
    {
     "name": "stdout",
     "output_type": "stream",
     "text": [
      "failed lane_checker\n",
      "failed lane_checker\n",
      "failed lane_checker\n",
      "failed lane_checker\n"
     ]
    },
    {
     "name": "stderr",
     "output_type": "stream",
     "text": [
      " 29%|██▉       | 142/485 [00:31<01:06,  5.18it/s]"
     ]
    },
    {
     "name": "stdout",
     "output_type": "stream",
     "text": [
      "failed lane_checker\n"
     ]
    },
    {
     "name": "stderr",
     "output_type": "stream",
     "text": [
      " 36%|███▌      | 174/485 [00:35<00:43,  7.16it/s]"
     ]
    },
    {
     "name": "stdout",
     "output_type": "stream",
     "text": [
      "failed lane_checker\n",
      "failed lane_checker\n"
     ]
    },
    {
     "name": "stderr",
     "output_type": "stream",
     "text": [
      " 36%|███▋      | 176/485 [00:36<00:45,  6.80it/s]"
     ]
    },
    {
     "name": "stdout",
     "output_type": "stream",
     "text": [
      "failed lane_checker\n",
      "failed lane_checker\n"
     ]
    },
    {
     "name": "stderr",
     "output_type": "stream",
     "text": [
      "\r",
      " 36%|███▋      | 177/485 [00:36<00:46,  6.68it/s]"
     ]
    },
    {
     "name": "stdout",
     "output_type": "stream",
     "text": [
      "failed lane_checker\n"
     ]
    },
    {
     "name": "stderr",
     "output_type": "stream",
     "text": [
      " 50%|████▉     | 241/485 [00:46<00:46,  5.20it/s]"
     ]
    },
    {
     "name": "stdout",
     "output_type": "stream",
     "text": [
      "failed lane_checker\n",
      "failed lane_checker\n",
      "failed lane_checker\n",
      "failed lane_checker\n"
     ]
    },
    {
     "name": "stderr",
     "output_type": "stream",
     "text": [
      " 51%|█████     | 246/485 [00:47<00:44,  5.42it/s]"
     ]
    },
    {
     "name": "stdout",
     "output_type": "stream",
     "text": [
      "failed lane_checker\n"
     ]
    },
    {
     "name": "stderr",
     "output_type": "stream",
     "text": [
      " 52%|█████▏    | 250/485 [00:48<00:51,  4.59it/s]"
     ]
    },
    {
     "name": "stdout",
     "output_type": "stream",
     "text": [
      "failed lane_checker\n"
     ]
    },
    {
     "name": "stderr",
     "output_type": "stream",
     "text": [
      " 52%|█████▏    | 253/485 [00:49<00:41,  5.56it/s]"
     ]
    },
    {
     "name": "stdout",
     "output_type": "stream",
     "text": [
      "failed lane_checker\n",
      "failed lane_checker\n",
      "failed lane_checker\n",
      "failed lane_checker\n",
      "failed lane_checker\n"
     ]
    },
    {
     "name": "stderr",
     "output_type": "stream",
     "text": [
      " 57%|█████▋    | 276/485 [00:53<00:42,  4.94it/s]"
     ]
    },
    {
     "name": "stdout",
     "output_type": "stream",
     "text": [
      "failed lane_checker\n"
     ]
    },
    {
     "name": "stderr",
     "output_type": "stream",
     "text": [
      " 58%|█████▊    | 280/485 [00:54<00:41,  5.00it/s]"
     ]
    },
    {
     "name": "stdout",
     "output_type": "stream",
     "text": [
      "failed lane_checker\n"
     ]
    },
    {
     "name": "stderr",
     "output_type": "stream",
     "text": [
      " 59%|█████▉    | 287/485 [00:55<00:33,  5.86it/s]"
     ]
    },
    {
     "name": "stdout",
     "output_type": "stream",
     "text": [
      "failed lane_checker\n",
      "failed lane_checker\n",
      "failed lane_checker\n",
      "failed lane_checker\n",
      "failed lane_checker\n"
     ]
    },
    {
     "name": "stderr",
     "output_type": "stream",
     "text": [
      " 60%|█████▉    | 290/485 [00:56<00:34,  5.60it/s]"
     ]
    },
    {
     "name": "stdout",
     "output_type": "stream",
     "text": [
      "failed lane_checker\n",
      "failed lane_checker\n",
      "failed lane_checker\n",
      "failed lane_checker\n"
     ]
    },
    {
     "name": "stderr",
     "output_type": "stream",
     "text": [
      " 63%|██████▎   | 307/485 [00:59<00:35,  4.95it/s]"
     ]
    },
    {
     "name": "stdout",
     "output_type": "stream",
     "text": [
      "failed lane_checker\n"
     ]
    },
    {
     "name": "stderr",
     "output_type": "stream",
     "text": [
      " 64%|██████▍   | 310/485 [00:59<00:33,  5.30it/s]"
     ]
    },
    {
     "name": "stdout",
     "output_type": "stream",
     "text": [
      "failed lane_checker\n"
     ]
    },
    {
     "name": "stderr",
     "output_type": "stream",
     "text": [
      " 65%|██████▌   | 317/485 [01:01<00:33,  5.08it/s]"
     ]
    },
    {
     "name": "stdout",
     "output_type": "stream",
     "text": [
      "failed lane_checker\n"
     ]
    },
    {
     "name": "stderr",
     "output_type": "stream",
     "text": [
      " 70%|██████▉   | 339/485 [01:05<00:29,  5.00it/s]"
     ]
    },
    {
     "name": "stdout",
     "output_type": "stream",
     "text": [
      "failed lane_checker\n"
     ]
    },
    {
     "name": "stderr",
     "output_type": "stream",
     "text": [
      "\r",
      " 70%|███████   | 340/485 [01:05<00:32,  4.53it/s]"
     ]
    },
    {
     "name": "stdout",
     "output_type": "stream",
     "text": [
      "failed lane_checker\n"
     ]
    },
    {
     "name": "stderr",
     "output_type": "stream",
     "text": [
      " 74%|███████▍  | 358/485 [01:08<00:21,  5.80it/s]"
     ]
    },
    {
     "name": "stdout",
     "output_type": "stream",
     "text": [
      "failed lane_checker\n",
      "failed lane_checker\n",
      "failed lane_checker\n",
      "failed lane_checker\n",
      "failed lane_checker\n"
     ]
    },
    {
     "name": "stderr",
     "output_type": "stream",
     "text": [
      " 75%|███████▌  | 365/485 [01:09<00:18,  6.55it/s]"
     ]
    },
    {
     "name": "stdout",
     "output_type": "stream",
     "text": [
      "failed lane_checker\n",
      "failed lane_checker\n"
     ]
    },
    {
     "name": "stderr",
     "output_type": "stream",
     "text": [
      " 79%|███████▉  | 385/485 [01:13<00:26,  3.74it/s]"
     ]
    },
    {
     "name": "stdout",
     "output_type": "stream",
     "text": [
      "failed lane_checker\n"
     ]
    },
    {
     "name": "stderr",
     "output_type": "stream",
     "text": [
      "\r",
      " 80%|███████▉  | 386/485 [01:13<00:25,  3.81it/s]"
     ]
    },
    {
     "name": "stdout",
     "output_type": "stream",
     "text": [
      "failed lane_checker\n",
      "failed lane_checker\n",
      "failed lane_checker\n",
      "failed lane_checker\n",
      "failed lane_checker\n"
     ]
    },
    {
     "name": "stderr",
     "output_type": "stream",
     "text": [
      " 81%|████████  | 391/485 [01:14<00:20,  4.54it/s]"
     ]
    },
    {
     "name": "stdout",
     "output_type": "stream",
     "text": [
      "failed lane_checker\n"
     ]
    },
    {
     "name": "stderr",
     "output_type": "stream",
     "text": [
      " 81%|████████▏ | 395/485 [01:15<00:18,  4.82it/s]"
     ]
    },
    {
     "name": "stdout",
     "output_type": "stream",
     "text": [
      "failed lane_checker\n"
     ]
    },
    {
     "name": "stderr",
     "output_type": "stream",
     "text": [
      " 82%|████████▏ | 397/485 [01:15<00:16,  5.38it/s]"
     ]
    },
    {
     "name": "stdout",
     "output_type": "stream",
     "text": [
      "failed lane_checker\n",
      "failed lane_checker\n",
      "failed lane_checker\n",
      "failed lane_checker\n",
      "failed lane_checker\n"
     ]
    },
    {
     "name": "stderr",
     "output_type": "stream",
     "text": [
      " 83%|████████▎ | 402/485 [01:16<00:12,  6.57it/s]"
     ]
    },
    {
     "name": "stdout",
     "output_type": "stream",
     "text": [
      "failed lane_checker\n",
      "failed lane_checker\n",
      "failed lane_checker\n",
      "failed lane_checker\n",
      "failed lane_checker\n"
     ]
    },
    {
     "name": "stderr",
     "output_type": "stream",
     "text": [
      " 85%|████████▍ | 411/485 [01:18<00:10,  7.19it/s]"
     ]
    },
    {
     "name": "stdout",
     "output_type": "stream",
     "text": [
      "failed lane_checker\n"
     ]
    },
    {
     "name": "stderr",
     "output_type": "stream",
     "text": [
      " 90%|█████████ | 438/485 [01:22<00:09,  4.79it/s]"
     ]
    },
    {
     "name": "stdout",
     "output_type": "stream",
     "text": [
      "failed lane_checker\n",
      "failed lane_checker\n",
      "failed lane_checker\n",
      "failed lane_checker\n",
      "failed lane_checker\n"
     ]
    },
    {
     "name": "stderr",
     "output_type": "stream",
     "text": [
      " 93%|█████████▎| 451/485 [01:24<00:06,  4.99it/s]"
     ]
    },
    {
     "name": "stdout",
     "output_type": "stream",
     "text": [
      "failed lane_checker\n"
     ]
    },
    {
     "name": "stderr",
     "output_type": "stream",
     "text": [
      " 94%|█████████▍| 456/485 [01:26<00:08,  3.52it/s]"
     ]
    },
    {
     "name": "stdout",
     "output_type": "stream",
     "text": [
      "failed lane_checker\n"
     ]
    },
    {
     "name": "stderr",
     "output_type": "stream",
     "text": [
      " 95%|█████████▌| 462/485 [01:27<00:05,  3.85it/s]"
     ]
    },
    {
     "name": "stdout",
     "output_type": "stream",
     "text": [
      "failed lane_checker\n"
     ]
    },
    {
     "name": "stderr",
     "output_type": "stream",
     "text": [
      " 96%|█████████▌| 466/485 [01:28<00:05,  3.62it/s]"
     ]
    },
    {
     "name": "stdout",
     "output_type": "stream",
     "text": [
      "failed lane_checker\n"
     ]
    },
    {
     "name": "stderr",
     "output_type": "stream",
     "text": [
      " 97%|█████████▋| 470/485 [01:29<00:03,  4.47it/s]"
     ]
    },
    {
     "name": "stdout",
     "output_type": "stream",
     "text": [
      "failed lane_checker\n"
     ]
    },
    {
     "name": "stderr",
     "output_type": "stream",
     "text": [
      " 99%|█████████▉| 481/485 [01:31<00:00,  4.60it/s]"
     ]
    },
    {
     "name": "stdout",
     "output_type": "stream",
     "text": [
      "failed lane_checker\n"
     ]
    },
    {
     "name": "stderr",
     "output_type": "stream",
     "text": [
      "100%|██████████| 485/485 [01:32<00:00,  4.97it/s]\n"
     ]
    },
    {
     "name": "stdout",
     "output_type": "stream",
     "text": [
      "[MoviePy] Done.\n",
      "[MoviePy] >>>> Video ready: challenge_video_output.mp4 \n",
      "\n",
      "CPU times: user 1min 32s, sys: 21.6 s, total: 1min 54s\n",
      "Wall time: 1min 33s\n"
     ]
    }
   ],
   "source": [
    "lane_finder = LaneFinderMoreChannel((720,1280), mask_vertices, anchor_points, tranformed_image_size, \n",
    "                         mtx, dist, PIX2XM, PIX2YM, window_width=50, window_height=80, margin=100)\n",
    "\n",
    "input_vid = 'challenge_video.mp4'\n",
    "output = input_vid[:-4]+\"_output.mp4\"\n",
    "clip2 = VideoFileClip(input_vid)\n",
    "# clip2 = clip2.subclip(36)\n",
    "challenge_clip = clip2.fl_image(lane_finder.pipeline)\n",
    "%time challenge_clip.write_videofile(output, audio=False)"
   ]
  },
  {
   "cell_type": "code",
   "execution_count": 16,
   "metadata": {},
   "outputs": [
    {
     "name": "stdout",
     "output_type": "stream",
     "text": [
      "[MoviePy] >>>> Building video harder_challenge_video_overlay_polyfinder_curvature.mp4\n",
      "[MoviePy] Writing video harder_challenge_video_overlay_polyfinder_curvature.mp4\n"
     ]
    },
    {
     "name": "stderr",
     "output_type": "stream",
     "text": [
      " 10%|▉         | 117/1200 [00:11<01:45, 10.31it/s]"
     ]
    },
    {
     "name": "stdout",
     "output_type": "stream",
     "text": [
      "failed lane_checker\n",
      "failed lane_checker\n"
     ]
    },
    {
     "name": "stderr",
     "output_type": "stream",
     "text": [
      " 10%|█         | 120/1200 [00:11<01:54,  9.42it/s]"
     ]
    },
    {
     "name": "stdout",
     "output_type": "stream",
     "text": [
      "failed lane_checker\n",
      "failed lane_checker\n"
     ]
    },
    {
     "name": "stderr",
     "output_type": "stream",
     "text": [
      " 10%|█         | 122/1200 [00:12<02:03,  8.76it/s]"
     ]
    },
    {
     "name": "stdout",
     "output_type": "stream",
     "text": [
      "failed lane_checker\n",
      "failed lane_checker\n"
     ]
    },
    {
     "name": "stderr",
     "output_type": "stream",
     "text": [
      " 10%|█         | 124/1200 [00:12<02:02,  8.77it/s]"
     ]
    },
    {
     "name": "stdout",
     "output_type": "stream",
     "text": [
      "failed lane_checker\n",
      "failed lane_checker\n"
     ]
    },
    {
     "name": "stderr",
     "output_type": "stream",
     "text": [
      " 10%|█         | 126/1200 [00:12<02:01,  8.85it/s]"
     ]
    },
    {
     "name": "stdout",
     "output_type": "stream",
     "text": [
      "failed lane_checker\n",
      "failed lane_checker\n"
     ]
    },
    {
     "name": "stderr",
     "output_type": "stream",
     "text": [
      " 11%|█         | 128/1200 [00:12<01:59,  8.94it/s]"
     ]
    },
    {
     "name": "stdout",
     "output_type": "stream",
     "text": [
      "failed lane_checker\n",
      "failed lane_checker\n"
     ]
    },
    {
     "name": "stderr",
     "output_type": "stream",
     "text": [
      " 11%|█         | 130/1200 [00:12<02:00,  8.88it/s]"
     ]
    },
    {
     "name": "stdout",
     "output_type": "stream",
     "text": [
      "failed lane_checker\n",
      "failed lane_checker\n"
     ]
    },
    {
     "name": "stderr",
     "output_type": "stream",
     "text": [
      " 11%|█         | 132/1200 [00:13<02:03,  8.66it/s]"
     ]
    },
    {
     "name": "stdout",
     "output_type": "stream",
     "text": [
      "failed lane_checker\n",
      "failed lane_checker\n"
     ]
    },
    {
     "name": "stderr",
     "output_type": "stream",
     "text": [
      " 11%|█         | 134/1200 [00:13<02:02,  8.71it/s]"
     ]
    },
    {
     "name": "stdout",
     "output_type": "stream",
     "text": [
      "failed lane_checker\n",
      "failed lane_checker\n"
     ]
    },
    {
     "name": "stderr",
     "output_type": "stream",
     "text": [
      " 11%|█▏        | 136/1200 [00:13<02:01,  8.77it/s]"
     ]
    },
    {
     "name": "stdout",
     "output_type": "stream",
     "text": [
      "failed lane_checker\n",
      "failed lane_checker\n"
     ]
    },
    {
     "name": "stderr",
     "output_type": "stream",
     "text": [
      " 12%|█▏        | 138/1200 [00:13<02:00,  8.81it/s]"
     ]
    },
    {
     "name": "stdout",
     "output_type": "stream",
     "text": [
      "failed lane_checker\n",
      "failed lane_checker\n"
     ]
    },
    {
     "name": "stderr",
     "output_type": "stream",
     "text": [
      " 12%|█▏        | 140/1200 [00:14<02:01,  8.73it/s]"
     ]
    },
    {
     "name": "stdout",
     "output_type": "stream",
     "text": [
      "failed lane_checker\n",
      "failed lane_checker\n"
     ]
    },
    {
     "name": "stderr",
     "output_type": "stream",
     "text": [
      " 12%|█▏        | 149/1200 [00:14<01:45,  9.95it/s]"
     ]
    },
    {
     "name": "stdout",
     "output_type": "stream",
     "text": [
      "failed lane_checker\n",
      "failed lane_checker\n"
     ]
    },
    {
     "name": "stderr",
     "output_type": "stream",
     "text": [
      "\r",
      " 13%|█▎        | 151/1200 [00:15<01:47,  9.77it/s]"
     ]
    },
    {
     "name": "stdout",
     "output_type": "stream",
     "text": [
      "failed lane_checker\n",
      "failed lane_checker\n"
     ]
    },
    {
     "name": "stderr",
     "output_type": "stream",
     "text": [
      "\r",
      " 13%|█▎        | 153/1200 [00:15<01:47,  9.77it/s]"
     ]
    },
    {
     "name": "stdout",
     "output_type": "stream",
     "text": [
      "failed lane_checker\n",
      "failed lane_checker\n"
     ]
    },
    {
     "name": "stderr",
     "output_type": "stream",
     "text": [
      "\r",
      " 13%|█▎        | 155/1200 [00:15<01:48,  9.67it/s]"
     ]
    },
    {
     "name": "stdout",
     "output_type": "stream",
     "text": [
      "failed lane_checker\n",
      "failed lane_checker\n"
     ]
    },
    {
     "name": "stderr",
     "output_type": "stream",
     "text": [
      "\r",
      " 13%|█▎        | 157/1200 [00:15<01:47,  9.69it/s]"
     ]
    },
    {
     "name": "stdout",
     "output_type": "stream",
     "text": [
      "failed lane_checker\n",
      "failed lane_checker\n"
     ]
    },
    {
     "name": "stderr",
     "output_type": "stream",
     "text": [
      "\r",
      " 13%|█▎        | 159/1200 [00:16<01:49,  9.51it/s]"
     ]
    },
    {
     "name": "stdout",
     "output_type": "stream",
     "text": [
      "failed lane_checker\n",
      "failed lane_checker\n"
     ]
    },
    {
     "name": "stderr",
     "output_type": "stream",
     "text": [
      "\r",
      " 13%|█▎        | 161/1200 [00:16<01:48,  9.57it/s]"
     ]
    },
    {
     "name": "stdout",
     "output_type": "stream",
     "text": [
      "failed lane_checker\n",
      "failed lane_checker\n"
     ]
    },
    {
     "name": "stderr",
     "output_type": "stream",
     "text": [
      " 14%|█▎        | 163/1200 [00:16<02:03,  8.41it/s]"
     ]
    },
    {
     "name": "stdout",
     "output_type": "stream",
     "text": [
      "failed lane_checker\n",
      "failed lane_checker\n"
     ]
    },
    {
     "name": "stderr",
     "output_type": "stream",
     "text": [
      " 14%|█▍        | 165/1200 [00:16<02:13,  7.75it/s]"
     ]
    },
    {
     "name": "stdout",
     "output_type": "stream",
     "text": [
      "failed lane_checker\n",
      "failed lane_checker\n"
     ]
    },
    {
     "name": "stderr",
     "output_type": "stream",
     "text": [
      " 14%|█▍        | 167/1200 [00:17<02:13,  7.74it/s]"
     ]
    },
    {
     "name": "stdout",
     "output_type": "stream",
     "text": [
      "failed lane_checker\n",
      "failed lane_checker\n"
     ]
    },
    {
     "name": "stderr",
     "output_type": "stream",
     "text": [
      " 14%|█▍        | 169/1200 [00:17<02:08,  8.00it/s]"
     ]
    },
    {
     "name": "stdout",
     "output_type": "stream",
     "text": [
      "failed lane_checker\n",
      "failed lane_checker\n"
     ]
    },
    {
     "name": "stderr",
     "output_type": "stream",
     "text": [
      " 14%|█▍        | 171/1200 [00:17<02:06,  8.12it/s]"
     ]
    },
    {
     "name": "stdout",
     "output_type": "stream",
     "text": [
      "failed lane_checker\n",
      "failed lane_checker\n"
     ]
    },
    {
     "name": "stderr",
     "output_type": "stream",
     "text": [
      " 14%|█▍        | 173/1200 [00:17<02:09,  7.92it/s]"
     ]
    },
    {
     "name": "stdout",
     "output_type": "stream",
     "text": [
      "failed lane_checker\n"
     ]
    },
    {
     "name": "stderr",
     "output_type": "stream",
     "text": [
      " 15%|█▍        | 178/1200 [00:18<01:52,  9.06it/s]"
     ]
    },
    {
     "name": "stdout",
     "output_type": "stream",
     "text": [
      "failed lane_checker\n",
      "failed lane_checker\n"
     ]
    },
    {
     "name": "stderr",
     "output_type": "stream",
     "text": [
      " 15%|█▌        | 181/1200 [00:18<02:06,  8.08it/s]"
     ]
    },
    {
     "name": "stdout",
     "output_type": "stream",
     "text": [
      "failed lane_checker\n"
     ]
    },
    {
     "name": "stderr",
     "output_type": "stream",
     "text": [
      " 17%|█▋        | 201/1200 [00:20<01:36, 10.35it/s]"
     ]
    },
    {
     "name": "stdout",
     "output_type": "stream",
     "text": [
      "failed lane_checker\n",
      "failed lane_checker\n"
     ]
    },
    {
     "name": "stderr",
     "output_type": "stream",
     "text": [
      " 17%|█▋        | 207/1200 [00:21<01:40,  9.85it/s]"
     ]
    },
    {
     "name": "stdout",
     "output_type": "stream",
     "text": [
      "failed lane_checker\n",
      "failed lane_checker\n"
     ]
    },
    {
     "name": "stderr",
     "output_type": "stream",
     "text": [
      "\r",
      " 17%|█▋        | 209/1200 [00:21<01:41,  9.74it/s]"
     ]
    },
    {
     "name": "stdout",
     "output_type": "stream",
     "text": [
      "failed lane_checker\n",
      "failed lane_checker\n"
     ]
    },
    {
     "name": "stderr",
     "output_type": "stream",
     "text": [
      " 22%|██▏       | 258/1200 [00:26<01:31, 10.30it/s]"
     ]
    },
    {
     "name": "stdout",
     "output_type": "stream",
     "text": [
      "failed lane_checker\n"
     ]
    },
    {
     "name": "stderr",
     "output_type": "stream",
     "text": [
      "\r",
      " 22%|██▏       | 260/1200 [00:26<01:32, 10.21it/s]"
     ]
    },
    {
     "name": "stdout",
     "output_type": "stream",
     "text": [
      "failed lane_checker\n",
      "failed lane_checker\n"
     ]
    },
    {
     "name": "stderr",
     "output_type": "stream",
     "text": [
      " 22%|██▏       | 264/1200 [00:26<01:36,  9.71it/s]"
     ]
    },
    {
     "name": "stdout",
     "output_type": "stream",
     "text": [
      "failed lane_checker\n",
      "failed lane_checker\n"
     ]
    },
    {
     "name": "stderr",
     "output_type": "stream",
     "text": [
      " 22%|██▏       | 266/1200 [00:26<01:38,  9.45it/s]"
     ]
    },
    {
     "name": "stdout",
     "output_type": "stream",
     "text": [
      "failed lane_checker\n",
      "failed lane_checker\n"
     ]
    },
    {
     "name": "stderr",
     "output_type": "stream",
     "text": [
      " 22%|██▏       | 268/1200 [00:27<01:39,  9.37it/s]"
     ]
    },
    {
     "name": "stdout",
     "output_type": "stream",
     "text": [
      "failed lane_checker\n",
      "failed lane_checker\n"
     ]
    },
    {
     "name": "stderr",
     "output_type": "stream",
     "text": [
      "\r",
      " 22%|██▏       | 269/1200 [00:27<01:39,  9.34it/s]"
     ]
    },
    {
     "name": "stdout",
     "output_type": "stream",
     "text": [
      "failed lane_checker\n"
     ]
    },
    {
     "name": "stderr",
     "output_type": "stream",
     "text": [
      " 23%|██▎       | 273/1200 [00:27<01:42,  9.07it/s]"
     ]
    },
    {
     "name": "stdout",
     "output_type": "stream",
     "text": [
      "failed lane_checker\n"
     ]
    },
    {
     "name": "stderr",
     "output_type": "stream",
     "text": [
      " 24%|██▍       | 290/1200 [00:29<01:45,  8.65it/s]"
     ]
    },
    {
     "name": "stdout",
     "output_type": "stream",
     "text": [
      "failed lane_checker\n"
     ]
    },
    {
     "name": "stderr",
     "output_type": "stream",
     "text": [
      " 25%|██▌       | 301/1200 [00:30<01:41,  8.83it/s]"
     ]
    },
    {
     "name": "stdout",
     "output_type": "stream",
     "text": [
      "failed lane_checker\n",
      "failed lane_checker\n"
     ]
    },
    {
     "name": "stderr",
     "output_type": "stream",
     "text": [
      " 26%|██▌       | 309/1200 [00:31<01:52,  7.92it/s]"
     ]
    },
    {
     "name": "stdout",
     "output_type": "stream",
     "text": [
      "failed lane_checker\n",
      "failed lane_checker\n"
     ]
    },
    {
     "name": "stderr",
     "output_type": "stream",
     "text": [
      "\r",
      " 26%|██▌       | 311/1200 [00:32<01:48,  8.23it/s]"
     ]
    },
    {
     "name": "stdout",
     "output_type": "stream",
     "text": [
      "failed lane_checker\n"
     ]
    },
    {
     "name": "stderr",
     "output_type": "stream",
     "text": [
      " 26%|██▌       | 313/1200 [00:32<01:42,  8.62it/s]"
     ]
    },
    {
     "name": "stdout",
     "output_type": "stream",
     "text": [
      "failed lane_checker\n"
     ]
    },
    {
     "name": "stderr",
     "output_type": "stream",
     "text": [
      " 26%|██▋       | 318/1200 [00:32<01:35,  9.20it/s]"
     ]
    },
    {
     "name": "stdout",
     "output_type": "stream",
     "text": [
      "failed lane_checker\n"
     ]
    },
    {
     "name": "stderr",
     "output_type": "stream",
     "text": [
      " 27%|██▋       | 324/1200 [00:33<01:29,  9.74it/s]"
     ]
    },
    {
     "name": "stdout",
     "output_type": "stream",
     "text": [
      "failed lane_checker\n",
      "failed lane_checker\n"
     ]
    },
    {
     "name": "stderr",
     "output_type": "stream",
     "text": [
      "\r",
      " 27%|██▋       | 326/1200 [00:33<01:29,  9.71it/s]"
     ]
    },
    {
     "name": "stdout",
     "output_type": "stream",
     "text": [
      "failed lane_checker\n",
      "failed lane_checker\n"
     ]
    },
    {
     "name": "stderr",
     "output_type": "stream",
     "text": [
      " 27%|██▋       | 329/1200 [00:34<01:30,  9.57it/s]"
     ]
    },
    {
     "name": "stdout",
     "output_type": "stream",
     "text": [
      "failed lane_checker\n"
     ]
    },
    {
     "name": "stderr",
     "output_type": "stream",
     "text": [
      " 29%|██▊       | 344/1200 [00:35<01:26,  9.94it/s]"
     ]
    },
    {
     "name": "stdout",
     "output_type": "stream",
     "text": [
      "failed lane_checker\n",
      "failed lane_checker\n"
     ]
    },
    {
     "name": "stderr",
     "output_type": "stream",
     "text": [
      "\r",
      " 29%|██▉       | 346/1200 [00:35<01:26,  9.86it/s]"
     ]
    },
    {
     "name": "stdout",
     "output_type": "stream",
     "text": [
      "failed lane_checker\n",
      "failed lane_checker\n"
     ]
    },
    {
     "name": "stderr",
     "output_type": "stream",
     "text": [
      " 29%|██▉       | 353/1200 [00:36<01:27,  9.73it/s]"
     ]
    },
    {
     "name": "stdout",
     "output_type": "stream",
     "text": [
      "failed lane_checker\n"
     ]
    },
    {
     "name": "stderr",
     "output_type": "stream",
     "text": [
      " 30%|██▉       | 355/1200 [00:36<01:31,  9.26it/s]"
     ]
    },
    {
     "name": "stdout",
     "output_type": "stream",
     "text": [
      "failed lane_checker\n"
     ]
    },
    {
     "name": "stderr",
     "output_type": "stream",
     "text": [
      " 46%|████▌     | 551/1200 [00:57<01:51,  5.84it/s]"
     ]
    },
    {
     "name": "stdout",
     "output_type": "stream",
     "text": [
      "failed lane_checker\n"
     ]
    },
    {
     "name": "stderr",
     "output_type": "stream",
     "text": [
      " 46%|████▌     | 553/1200 [00:57<01:46,  6.05it/s]"
     ]
    },
    {
     "name": "stdout",
     "output_type": "stream",
     "text": [
      "failed lane_checker\n"
     ]
    },
    {
     "name": "stderr",
     "output_type": "stream",
     "text": [
      " 47%|████▋     | 561/1200 [00:58<01:15,  8.41it/s]"
     ]
    },
    {
     "name": "stdout",
     "output_type": "stream",
     "text": [
      "failed lane_checker\n",
      "failed lane_checker\n"
     ]
    },
    {
     "name": "stderr",
     "output_type": "stream",
     "text": [
      " 47%|████▋     | 563/1200 [00:58<01:16,  8.28it/s]"
     ]
    },
    {
     "name": "stdout",
     "output_type": "stream",
     "text": [
      "failed lane_checker\n",
      "failed lane_checker\n"
     ]
    },
    {
     "name": "stderr",
     "output_type": "stream",
     "text": [
      " 54%|█████▍    | 650/1200 [01:07<00:58,  9.37it/s]"
     ]
    },
    {
     "name": "stdout",
     "output_type": "stream",
     "text": [
      "failed lane_checker\n",
      "failed lane_checker\n"
     ]
    },
    {
     "name": "stderr",
     "output_type": "stream",
     "text": [
      " 54%|█████▍    | 652/1200 [01:07<01:03,  8.67it/s]"
     ]
    },
    {
     "name": "stdout",
     "output_type": "stream",
     "text": [
      "failed lane_checker\n",
      "failed lane_checker\n"
     ]
    },
    {
     "name": "stderr",
     "output_type": "stream",
     "text": [
      " 55%|█████▍    | 654/1200 [01:07<01:04,  8.43it/s]"
     ]
    },
    {
     "name": "stdout",
     "output_type": "stream",
     "text": [
      "failed lane_checker\n",
      "failed lane_checker\n"
     ]
    },
    {
     "name": "stderr",
     "output_type": "stream",
     "text": [
      " 55%|█████▍    | 656/1200 [01:07<01:06,  8.18it/s]"
     ]
    },
    {
     "name": "stdout",
     "output_type": "stream",
     "text": [
      "failed lane_checker\n",
      "failed lane_checker\n"
     ]
    },
    {
     "name": "stderr",
     "output_type": "stream",
     "text": [
      " 55%|█████▍    | 658/1200 [01:08<01:04,  8.43it/s]"
     ]
    },
    {
     "name": "stdout",
     "output_type": "stream",
     "text": [
      "failed lane_checker\n",
      "failed lane_checker\n"
     ]
    },
    {
     "name": "stderr",
     "output_type": "stream",
     "text": [
      " 55%|█████▌    | 660/1200 [01:08<01:02,  8.70it/s]"
     ]
    },
    {
     "name": "stdout",
     "output_type": "stream",
     "text": [
      "failed lane_checker\n",
      "failed lane_checker\n"
     ]
    },
    {
     "name": "stderr",
     "output_type": "stream",
     "text": [
      " 55%|█████▌    | 662/1200 [01:08<01:03,  8.44it/s]"
     ]
    },
    {
     "name": "stdout",
     "output_type": "stream",
     "text": [
      "failed lane_checker\n",
      "failed lane_checker\n"
     ]
    },
    {
     "name": "stderr",
     "output_type": "stream",
     "text": [
      " 55%|█████▌    | 664/1200 [01:08<01:03,  8.46it/s]"
     ]
    },
    {
     "name": "stdout",
     "output_type": "stream",
     "text": [
      "failed lane_checker\n",
      "failed lane_checker\n"
     ]
    },
    {
     "name": "stderr",
     "output_type": "stream",
     "text": [
      " 56%|█████▌    | 666/1200 [01:09<01:02,  8.58it/s]"
     ]
    },
    {
     "name": "stdout",
     "output_type": "stream",
     "text": [
      "failed lane_checker\n",
      "failed lane_checker\n"
     ]
    },
    {
     "name": "stderr",
     "output_type": "stream",
     "text": [
      " 56%|█████▌    | 668/1200 [01:09<01:03,  8.34it/s]"
     ]
    },
    {
     "name": "stdout",
     "output_type": "stream",
     "text": [
      "failed lane_checker\n"
     ]
    },
    {
     "name": "stderr",
     "output_type": "stream",
     "text": [
      " 56%|█████▋    | 677/1200 [01:10<00:51, 10.18it/s]"
     ]
    },
    {
     "name": "stdout",
     "output_type": "stream",
     "text": [
      "failed lane_checker\n",
      "failed lane_checker\n"
     ]
    },
    {
     "name": "stderr",
     "output_type": "stream",
     "text": [
      " 57%|█████▋    | 680/1200 [01:10<00:55,  9.40it/s]"
     ]
    },
    {
     "name": "stdout",
     "output_type": "stream",
     "text": [
      "failed lane_checker\n",
      "failed lane_checker\n"
     ]
    },
    {
     "name": "stderr",
     "output_type": "stream",
     "text": [
      " 57%|█████▋    | 682/1200 [01:10<00:58,  8.84it/s]"
     ]
    },
    {
     "name": "stdout",
     "output_type": "stream",
     "text": [
      "failed lane_checker\n"
     ]
    },
    {
     "name": "stderr",
     "output_type": "stream",
     "text": [
      " 57%|█████▋    | 688/1200 [01:11<00:51,  9.93it/s]"
     ]
    },
    {
     "name": "stdout",
     "output_type": "stream",
     "text": [
      "failed lane_checker\n"
     ]
    },
    {
     "name": "stderr",
     "output_type": "stream",
     "text": [
      " 58%|█████▊    | 692/1200 [01:11<00:50,  9.98it/s]"
     ]
    },
    {
     "name": "stdout",
     "output_type": "stream",
     "text": [
      "failed lane_checker\n"
     ]
    },
    {
     "name": "stderr",
     "output_type": "stream",
     "text": [
      " 58%|█████▊    | 696/1200 [01:12<00:51,  9.76it/s]"
     ]
    },
    {
     "name": "stdout",
     "output_type": "stream",
     "text": [
      "failed lane_checker\n"
     ]
    },
    {
     "name": "stderr",
     "output_type": "stream",
     "text": [
      " 58%|█████▊    | 700/1200 [01:12<00:50,  9.94it/s]"
     ]
    },
    {
     "name": "stdout",
     "output_type": "stream",
     "text": [
      "failed lane_checker\n"
     ]
    },
    {
     "name": "stderr",
     "output_type": "stream",
     "text": [
      "\r",
      " 58%|█████▊    | 702/1200 [01:12<00:48, 10.22it/s]"
     ]
    },
    {
     "name": "stdout",
     "output_type": "stream",
     "text": [
      "failed lane_checker\n"
     ]
    },
    {
     "name": "stderr",
     "output_type": "stream",
     "text": [
      " 61%|██████    | 729/1200 [01:15<00:44, 10.59it/s]"
     ]
    },
    {
     "name": "stdout",
     "output_type": "stream",
     "text": [
      "failed lane_checker\n"
     ]
    },
    {
     "name": "stderr",
     "output_type": "stream",
     "text": [
      "\r",
      " 61%|██████    | 731/1200 [01:15<00:46, 10.15it/s]"
     ]
    },
    {
     "name": "stdout",
     "output_type": "stream",
     "text": [
      "failed lane_checker\n"
     ]
    },
    {
     "name": "stderr",
     "output_type": "stream",
     "text": [
      " 68%|██████▊   | 815/1200 [01:23<00:37, 10.15it/s]"
     ]
    },
    {
     "name": "stdout",
     "output_type": "stream",
     "text": [
      "failed lane_checker\n"
     ]
    },
    {
     "name": "stderr",
     "output_type": "stream",
     "text": [
      " 70%|███████   | 845/1200 [01:26<00:36,  9.86it/s]"
     ]
    },
    {
     "name": "stdout",
     "output_type": "stream",
     "text": [
      "failed lane_checker\n",
      "failed lane_checker\n"
     ]
    },
    {
     "name": "stderr",
     "output_type": "stream",
     "text": [
      "\r",
      " 71%|███████   | 847/1200 [01:26<00:35,  9.95it/s]"
     ]
    },
    {
     "name": "stdout",
     "output_type": "stream",
     "text": [
      "failed lane_checker\n"
     ]
    },
    {
     "name": "stderr",
     "output_type": "stream",
     "text": [
      " 71%|███████   | 850/1200 [01:27<00:38,  9.08it/s]"
     ]
    },
    {
     "name": "stdout",
     "output_type": "stream",
     "text": [
      "failed lane_checker\n"
     ]
    },
    {
     "name": "stderr",
     "output_type": "stream",
     "text": [
      " 82%|████████▏ | 988/1200 [01:41<00:32,  6.49it/s]"
     ]
    },
    {
     "name": "stdout",
     "output_type": "stream",
     "text": [
      "failed lane_checker\n",
      "failed lane_checker\n"
     ]
    },
    {
     "name": "stderr",
     "output_type": "stream",
     "text": [
      " 83%|████████▎ | 991/1200 [01:41<00:29,  6.99it/s]"
     ]
    },
    {
     "name": "stdout",
     "output_type": "stream",
     "text": [
      "failed lane_checker\n",
      "failed lane_checker\n"
     ]
    },
    {
     "name": "stderr",
     "output_type": "stream",
     "text": [
      " 83%|████████▎ | 993/1200 [01:42<00:30,  6.86it/s]"
     ]
    },
    {
     "name": "stdout",
     "output_type": "stream",
     "text": [
      "failed lane_checker\n"
     ]
    },
    {
     "name": "stderr",
     "output_type": "stream",
     "text": [
      " 83%|████████▎ | 996/1200 [01:42<00:26,  7.84it/s]"
     ]
    },
    {
     "name": "stdout",
     "output_type": "stream",
     "text": [
      "failed lane_checker\n"
     ]
    },
    {
     "name": "stderr",
     "output_type": "stream",
     "text": [
      " 83%|████████▎ | 998/1200 [01:42<00:28,  7.20it/s]"
     ]
    },
    {
     "name": "stdout",
     "output_type": "stream",
     "text": [
      "failed lane_checker\n"
     ]
    },
    {
     "name": "stderr",
     "output_type": "stream",
     "text": [
      " 83%|████████▎ | 1000/1200 [01:43<00:26,  7.42it/s]"
     ]
    },
    {
     "name": "stdout",
     "output_type": "stream",
     "text": [
      "failed lane_checker\n"
     ]
    },
    {
     "name": "stderr",
     "output_type": "stream",
     "text": [
      " 84%|████████▍ | 1014/1200 [01:44<00:21,  8.57it/s]"
     ]
    },
    {
     "name": "stdout",
     "output_type": "stream",
     "text": [
      "failed lane_checker\n"
     ]
    },
    {
     "name": "stderr",
     "output_type": "stream",
     "text": [
      " 85%|████████▍ | 1016/1200 [01:44<00:24,  7.37it/s]"
     ]
    },
    {
     "name": "stdout",
     "output_type": "stream",
     "text": [
      "failed lane_checker\n",
      "failed lane_checker\n"
     ]
    },
    {
     "name": "stderr",
     "output_type": "stream",
     "text": [
      " 85%|████████▍ | 1018/1200 [01:45<00:26,  6.87it/s]"
     ]
    },
    {
     "name": "stdout",
     "output_type": "stream",
     "text": [
      "failed lane_checker\n"
     ]
    },
    {
     "name": "stderr",
     "output_type": "stream",
     "text": [
      " 85%|████████▌ | 1023/1200 [01:45<00:20,  8.57it/s]"
     ]
    },
    {
     "name": "stdout",
     "output_type": "stream",
     "text": [
      "failed lane_checker\n",
      "failed lane_checker\n"
     ]
    },
    {
     "name": "stderr",
     "output_type": "stream",
     "text": [
      " 85%|████████▌ | 1025/1200 [01:45<00:20,  8.72it/s]"
     ]
    },
    {
     "name": "stdout",
     "output_type": "stream",
     "text": [
      "failed lane_checker\n",
      "failed lane_checker\n"
     ]
    },
    {
     "name": "stderr",
     "output_type": "stream",
     "text": [
      " 86%|████████▌ | 1027/1200 [01:46<00:19,  8.77it/s]"
     ]
    },
    {
     "name": "stdout",
     "output_type": "stream",
     "text": [
      "failed lane_checker\n",
      "failed lane_checker\n"
     ]
    },
    {
     "name": "stderr",
     "output_type": "stream",
     "text": [
      " 87%|████████▋ | 1044/1200 [01:47<00:14, 10.43it/s]"
     ]
    },
    {
     "name": "stdout",
     "output_type": "stream",
     "text": [
      "failed lane_checker\n"
     ]
    },
    {
     "name": "stderr",
     "output_type": "stream",
     "text": [
      " 90%|████████▉ | 1077/1200 [01:51<00:12, 10.11it/s]"
     ]
    },
    {
     "name": "stdout",
     "output_type": "stream",
     "text": [
      "failed lane_checker\n"
     ]
    },
    {
     "name": "stderr",
     "output_type": "stream",
     "text": [
      " 91%|█████████ | 1090/1200 [01:52<00:10, 10.12it/s]"
     ]
    },
    {
     "name": "stdout",
     "output_type": "stream",
     "text": [
      "failed lane_checker\n"
     ]
    },
    {
     "name": "stderr",
     "output_type": "stream",
     "text": [
      " 94%|█████████▎| 1122/1200 [01:55<00:07,  9.79it/s]"
     ]
    },
    {
     "name": "stdout",
     "output_type": "stream",
     "text": [
      "failed lane_checker\n"
     ]
    },
    {
     "name": "stderr",
     "output_type": "stream",
     "text": [
      " 94%|█████████▍| 1134/1200 [01:56<00:06, 10.00it/s]"
     ]
    },
    {
     "name": "stdout",
     "output_type": "stream",
     "text": [
      "failed lane_checker\n"
     ]
    },
    {
     "name": "stderr",
     "output_type": "stream",
     "text": [
      "100%|█████████▉| 1195/1200 [02:03<00:00,  9.81it/s]"
     ]
    },
    {
     "name": "stdout",
     "output_type": "stream",
     "text": [
      "failed lane_checker\n"
     ]
    },
    {
     "name": "stderr",
     "output_type": "stream",
     "text": [
      "100%|█████████▉| 1199/1200 [02:03<00:00,  9.17it/s]\n"
     ]
    },
    {
     "name": "stdout",
     "output_type": "stream",
     "text": [
      "[MoviePy] Done.\n",
      "[MoviePy] >>>> Video ready: harder_challenge_video_overlay_polyfinder_curvature.mp4 \n",
      "\n",
      "CPU times: user 2min 31s, sys: 27.4 s, total: 2min 58s\n",
      "Wall time: 2min 4s\n"
     ]
    }
   ],
   "source": [
    "lane_finder = LaneFinder((720,1280), mask_vertices, anchor_points, tranformed_image_size, \n",
    "                         mtx, dist, PIX2XM, PIX2YM, window_width=50, window_height=80, margin=100)\n",
    "\n",
    "input_vid = 'harder_challenge_video.mp4'\n",
    "output = input_vid[:-4]+\"_overlay_polyfinder_curvature.mp4\"\n",
    "clip2 = VideoFileClip(input_vid)\n",
    "# clip2 = clip2.subclip(36)\n",
    "challenge_clip = clip2.fl_image(lane_finder.pipeline)\n",
    "%time challenge_clip.write_videofile(output, audio=False)"
   ]
  },
  {
   "cell_type": "code",
   "execution_count": null,
   "metadata": {},
   "outputs": [],
   "source": [
    "clip = (VideoFileClip(\"project_video_channels/project_video_channel_0.mp4\")\n",
    "        .resize(0.2))\n",
    "clip.speedx(3).write_gif(\"channel0.gif\")"
   ]
  },
  {
   "cell_type": "code",
   "execution_count": null,
   "metadata": {
    "collapsed": true
   },
   "outputs": [],
   "source": [
    "clip = VideoFileClip('myanimation.gif') # can be gif or movie\n",
    "for frame in clip.iter_frames():\n",
    "    mpimg.imsave(\"channel0.png\",frame)\n",
    "    break"
   ]
  },
  {
   "cell_type": "code",
   "execution_count": null,
   "metadata": {
    "collapsed": true
   },
   "outputs": [],
   "source": [
    "############\n",
    "import cv2\n",
    "import numpy as np\n",
    "from Lane import Lane\n",
    "\n",
    "class LaneFinder:\n",
    "    def __init__(self, original_image_size, mask_vertices, anchor_points, tranformed_image_size,\n",
    "                 cali_mtx, cali_dist, convert_x, convert_y,\n",
    "                 window_width=80, window_height=80, margin=100,\n",
    "                 left_lane_bound=None, right_lane_bound=None,\n",
    "                 left_lane_pixel_thres = 600, right_lane_pixel_thres=200,\n",
    "                 smooth_window=5):\n",
    "        self.original_image_size = original_image_size\n",
    "        self.lane = Lane(tranformed_image_size, convert_x, convert_y, smooth_window)\n",
    "        self.height = tranformed_image_size[0]\n",
    "        self.width = tranformed_image_size[1]\n",
    "        self.window_width = window_width\n",
    "        self.window_height = window_height\n",
    "        self.margin = margin\n",
    "        self.level_num = (int)(tranformed_image_size[0]/window_height)\n",
    "        self.window = np.ones(window_width) # Define window template\n",
    "        self.channels = []\n",
    "        [self.idx,self.idy] = np.meshgrid(range(tranformed_image_size[1]),\n",
    "                                          range(tranformed_image_size[0]))\n",
    "        self.calibration_matrix = cali_mtx\n",
    "        self.calibration_dist = cali_dist\n",
    "\n",
    "        src = np.array(anchor_points, dtype = \"float32\")\n",
    "        h_margin = 200\n",
    "        top_margin = 200\n",
    "        bottom_margin = 50\n",
    "        dst = np.array([[h_margin, top_margin],\n",
    "                        [tranformed_image_size[0] - h_margin, top_margin],\n",
    "                        [tranformed_image_size[0] - h_margin, tranformed_image_size[1] - bottom_margin],\n",
    "                        [h_margin, tranformed_image_size[1] - bottom_margin]], dtype = \"float32\")\n",
    "        self.M = cv2.getPerspectiveTransform(src, dst)\n",
    "        self.M_inv = np.linalg.inv(self.M)\n",
    "\n",
    "        roi = np.zeros(original_image_size,dtype=np.uint8)\n",
    "        cv2.fillPoly(roi, np.array([mask_vertices], dtype=np.int32),1)\n",
    "        roi = cv2.undistort(roi, cali_mtx, cali_dist, None, cali_mtx)\n",
    "        self.mask = cv2.warpPerspective(roi, self.M, tranformed_image_size, flags=cv2.INTER_LINEAR)\n",
    "\n",
    "        # set left lane and right lane researching region individually\n",
    "        if left_lane_bound is None:\n",
    "            left_lane_bound = (int(self.width/8),int(self.width*3/8),int(self.height*3/4), self.height)\n",
    "        if right_lane_bound is None:\n",
    "            right_lane_bound = (int(self.width*5/8),int(self.width*7/8),int(self.height*1/8), self.height)\n",
    "        self.lane_bound = [left_lane_bound, right_lane_bound]\n",
    "\n",
    "        self.left_lane_pixel_thres = left_lane_pixel_thres\n",
    "        self.right_lane_pixel_thres = right_lane_pixel_thres\n",
    "        self.texts = [] # store center offset and curvature, as well as other info for debuging\n",
    "\n",
    "    def window_mask(self, center, level):\n",
    "        output = np.zeros((self.height,self.width))\n",
    "        output[int(self.height-(level+1)*self.window_height):int(self.height-level*self.window_height),\n",
    "               max(0,int(center-self.window_width/2)):min(int(center+self.window_width/2),self.width)] = 1\n",
    "        return output\n",
    "\n",
    "    def initial_window_finder(self, image, threshold,\n",
    "                              left_bound, right_bound,\n",
    "                              upper_bound, lower_bound):\n",
    "        # Sum the bottom of the image with the given height vertically to get a 1d array\n",
    "        # Each element in this array counts number of white pixels in that column\n",
    "        v_sum = np.sum(image[upper_bound:lower_bound,left_bound:right_bound], axis=0)\n",
    "        # Convolve the vertical image slice with the window template\n",
    "        conv = np.convolve(self.window,v_sum)\n",
    "        # the peak should have enough signals, and should stand out from the rests (not noise).\n",
    "        if conv.max()>threshold:\n",
    "            center = int(np.argmax(conv)-self.window.size/2 + left_bound)\n",
    "            return center\n",
    "        else:\n",
    "            print(\"No enough pixels detected\")\n",
    "\n",
    "        return -1\n",
    "\n",
    "    def channel_decompose(self, img, saturation_white_thresh=(0, 2),\n",
    "                         saturation_yellow_thresh=(100, 180),\n",
    "                         hue_thresh=(18, 25), value_thresh=(200, 255),\n",
    "                         component_limit=6, min_area=1000,\n",
    "                         ksize=15):\n",
    "\n",
    "\n",
    "        # Convert to HLS color space and separate the V channel\n",
    "        hsv = cv2.cvtColor(img, cv2.COLOR_RGB2HSV).astype(np.float)\n",
    "        h_channel = hsv[:,:,0]\n",
    "        s_channel = hsv[:,:,1]\n",
    "        v_channel = hsv[:,:,2]\n",
    "\n",
    "        v_binary = np.zeros_like(v_channel)\n",
    "        v_binary[(v_channel>=value_thresh[0])&(v_channel<=value_thresh[1])] = 1\n",
    "        #\n",
    "        # r_channel = img[:,:,0]\n",
    "        # r_binary = topo_parabolic_bump_filter(cv2.GaussianBlur(r_channel,(5,5),0),\n",
    "        #                                       x_thresh=(0.9,1), min_area=1000, ksize=ksize)\n",
    "        #\n",
    "        # h_binary = np.zeros_like(h_channel)\n",
    "        # h_binary[(h_channel>=hue_thresh[0])&(h_channel<=hue_thresh[1])] = 1\n",
    "        #\n",
    "        # sw_binary = np.zeros_like(s_channel)\n",
    "        # sw_binary[(s_channel>=saturation_white_thresh[0])&(s_channel<=saturation_white_thresh[1])] = 1\n",
    "        # sy_binary = np.zeros_like(s_channel)\n",
    "        # sy_binary[(s_channel>=saturation_yellow_thresh[0])&(s_channel<=saturation_yellow_thresh[1])] = 1\n",
    "\n",
    "        self.thresholds = [50]\n",
    "\n",
    "        return [v_binary]\n",
    "\n",
    "#         return [v_binary, r_binary,h_binary,sw_binary,sy_binary]\n",
    "#         return [v_channel*v_binary, r_channel*r_binary,h_channel*h_binary,\n",
    "#                 s_channel*sw_binary,s_channel*sy_binary]\n",
    "\n",
    "    def prepare_channels(self, img):\n",
    "        channels = self.channel_decompose(img)\n",
    "        self.channels = [im*self.mask for im in channels] #ignore outside of masked region\n",
    "        return len(channels)\n",
    "\n",
    "    def find_window_per_level(self, image, center, level, threshold):\n",
    "        # Find the best centroid by using past center as a reference\n",
    "        min_index = max(center-self.margin, 0)\n",
    "        max_index = min(center+self.margin, self.width)\n",
    "        v_projection = np.sum(image[int(self.height-(level+1)*self.window_height):\n",
    "                                    int(self.height-level*self.window_height),\n",
    "                                    min_index:max_index],\n",
    "                              axis=0)\n",
    "        # convolve the window into the vertical slice of the image\n",
    "        conv_signal = np.convolve(self.window, v_projection)\n",
    "        peak_idx = np.argmax(conv_signal)\n",
    "        # Update window center only if pixels in that slot exceed our threshold\n",
    "        if (conv_signal[peak_idx]>threshold):\n",
    "            # Use window_width/2 as offset because convolution signal reference is at right side of window,\n",
    "            # not center of window\n",
    "            center = peak_idx+min_index-int(self.window_width/2)\n",
    "        return center\n",
    "\n",
    "    def get_points_in_window(self, image, level, window_center):\n",
    "        points = np.zeros_like(image)\n",
    "        if window_center>=0:\n",
    "            window_mask = self.window_mask(window_center,level)\n",
    "            points = image*window_mask\n",
    "        return points\n",
    "\n",
    "    def init_lane_finder(self, side):\n",
    "        idx = -1\n",
    "        center = -1\n",
    "        # search window center starting from the first channel\n",
    "        # for the current channel, locate the bin with most pixels within the given bound\n",
    "        # bounds are different for left lane and right, and are defined in the initializer.\n",
    "        while center<0 and idx<len(self.channels)-1:\n",
    "            idx += 1 # move to the next channel if cannot find a window with peak in this channel\n",
    "            center = self.initial_window_finder(self.channels[idx],self.thresholds[idx],\n",
    "                                                self.lane_bound[side][0], self.lane_bound[side][1],\n",
    "                                                self.lane_bound[side][2], self.lane_bound[side][3])\n",
    "\n",
    "        self.window_centroids[side].append((idx, center))\n",
    "        points = np.zeros((self.height, self.width))\n",
    "        if center>=0:\n",
    "            # when a window with peak is found\n",
    "            # slice the birdview image into several layers and search for peak in each layer.\n",
    "            points = self.get_points_in_window(self.channels[idx], 0, center)\n",
    "            for level in range(1,self.level_num):\n",
    "                center = self.find_window_per_level(self.channels[idx], center,\n",
    "                                                    level, self.thresholds[idx])\n",
    "                level_points = self.get_points_in_window(self.channels[idx], level, center)\n",
    "                points = np.maximum(points,level_points)\n",
    "                self.window_centroids[side].append((idx, center))\n",
    "        else:\n",
    "            print(\"Could not find a peak window to start with in all channels\")\n",
    "        if side==0:\n",
    "            (self.lane.left_y, self.lane.left_x) = np.where(points>0)\n",
    "            print(self.lane.left_x.size)\n",
    "            self.lane.polyfit_left()\n",
    "        else:\n",
    "            (self.lane.right_y, self.lane.right_x) = np.where(points>0)\n",
    "            self.lane.polyfit_right()\n",
    "\n",
    "    def tube_lane_finder(self, img, side):\n",
    "        tube_mask = np.zeros_like(img)\n",
    "        if side==0: # left lane\n",
    "            search_radius = 10\n",
    "            while (search_radius<self.margin and\n",
    "                   self.lane.left_x.size<self.left_lane_pixel_thres):\n",
    "                tube_mask[np.abs(self.idx-np.repeat([self.lane.left_fitx],\n",
    "                                           self.width,axis=0).T)<search_radius]=1\n",
    "                l_points = img*tube_mask\n",
    "                (self.lane.left_y, self.lane.left_x) = np.where(l_points>0)\n",
    "                search_radius += 10\n",
    "\n",
    "            return self.lane.polyfit_left()\n",
    "\n",
    "        else:  # right lane\n",
    "            search_radius = 10\n",
    "            while (search_radius<self.margin and\n",
    "                   self.lane.right_x.size<self.right_lane_pixel_thres):\n",
    "                tube_mask[np.abs(self.idx-np.repeat([self.lane.right_fitx],\n",
    "                                               self.width,axis=0).T)<search_radius]=1\n",
    "                r_points = img*tube_mask\n",
    "                (self.lane.right_y, self.lane.right_x) = np.where(r_points>0)\n",
    "                search_radius += 10\n",
    "\n",
    "            return self.lane.polyfit_right()\n",
    "\n",
    "    def draw_lane(self):\n",
    "        # Draw the lane pixels and lane curve\n",
    "        left_bound_idx, right_bound_idx = None, None\n",
    "        if self.lane.left_x.size>0:\n",
    "            # Make left lane pixels blue\n",
    "            self.lane.canvas[self.lane.left_y,self.lane.left_x,2] = 255\n",
    "        if self.lane.left_detected:\n",
    "            # Draw polynomial\n",
    "            self.lane.canvas[self.lane.ploty,self.lane.left_fitx,0:2] = 155\n",
    "            left_bound_idx = np.repeat([self.lane.left_fitx],\n",
    "                                        self.width,axis=0).T\n",
    "        if self.lane.right_x.size>0:\n",
    "            #right lane pixels red,\n",
    "            self.lane.canvas[self.lane.right_y,self.lane.right_x,0] = 255\n",
    "        if self.lane.right_detected:\n",
    "            self.lane.canvas[self.lane.ploty,self.lane.right_fitx,0:2] = 155\n",
    "#             self.lane.canvas[self.lane.ploty,self.lane.right_fitx,2] = 155\n",
    "            right_bound_idx = np.repeat([self.lane.right_fitx], self.width,axis=0).T\n",
    "        elif left_bound_idx is not None:\n",
    "            right_bound_idx = left_bound_idx + self.lane.width\n",
    "\n",
    "        if (left_bound_idx is not None) and (right_bound_idx is not None):\n",
    "            self.lane.canvas[(self.idx-left_bound_idx>0)&(self.idx-right_bound_idx<0),1] = 50\n",
    "        return self.lane.canvas\n",
    "\n",
    "    def draw_windows(self):\n",
    "        canvas = np.zeros((self.height,self.width))\n",
    "        for side in [0,1]:\n",
    "            level = -1\n",
    "            for _, window_center in self.window_centroids[side]:\n",
    "                level += 1\n",
    "                canvas = np.maximum(canvas, self.window_mask(window_center,level))\n",
    "        return canvas\n",
    "    \n",
    "    def draw_result(self, original_img):\n",
    "        new_img = np.copy(original_img)\n",
    "        font = cv2.FONT_HERSHEY_DUPLEX\n",
    "        text_v_position = 70\n",
    "        for text in self.texts:\n",
    "            cv2.putText(new_img, text, (40, text_v_position),\n",
    "                        font, 1.0, (200,255,155), 2, cv2.LINE_AA)\n",
    "            text_v_position += 30\n",
    "\n",
    "        return new_img\n",
    "\n",
    "    def pipeline(self, img):\n",
    "        # reset information for the current frame\n",
    "        self.lane.reset_canvas()\n",
    "        self.texts = []\n",
    "        self.window_centroids = [[],[]]\n",
    "\n",
    "        # undistort and apply perspective transformation to get birdview\n",
    "        warped_img = cv2.undistort(img, self.calibration_matrix, self.calibration_dist,\n",
    "                                   None, self.calibration_matrix)\n",
    "        warped_img = cv2.warpPerspective(warped_img, self.M,\n",
    "                                         (self.height,self.width),\n",
    "                                         flags=cv2.INTER_LINEAR)\n",
    "\n",
    "        # apply different filters to create candidate channels\n",
    "        L = self.prepare_channels(warped_img)\n",
    "#         return np.dstack((self.channels[0],self.channels[0],self.channels[0]))\n",
    "\n",
    "        text = ''\n",
    "        # If lane-line is detected from the previous frame,\n",
    "        # then use tube_lane_finder\n",
    "        if self.lane.left_detected and self.lane.left_fitx is not None:\n",
    "            channel_left_idx = 0\n",
    "            while channel_left_idx<L and (not self.tube_lane_finder(self.channels[channel_left_idx],0)):\n",
    "                channel_left_idx += 1\n",
    "            text += 'L channel:' + str(channel_left_idx)+' pix:'+ str(self.lane.left_x.size) + ', '\n",
    "        else: # otherwise search from scratch\n",
    "            text += 'L init '\n",
    "            self.init_lane_finder(side=0)\n",
    "\n",
    "        # same process applied to right lane-line\n",
    "        if self.lane.right_detected and self.lane.right_fitx is not None:\n",
    "            channel_right_idx = 0\n",
    "            while channel_right_idx<L and (not self.tube_lane_finder(self.channels[channel_right_idx],1)):\n",
    "                channel_right_idx += 1\n",
    "            text += 'R channel:' + str(channel_right_idx)+' pix:'+ str(self.lane.right_x.size)\n",
    "        else:\n",
    "            text += 'R init '\n",
    "            self.init_lane_finder(side=1)\n",
    "\n",
    "        if len(text)>0: self.texts.append(text)\n",
    "\n",
    "        if (self.lane.left_x.size>0) and (self.lane.right_x.size>0):\n",
    "            # compute curvature and center offset\n",
    "            (curvature, center_offset) = self.lane.analyze()\n",
    "            self.texts.append(\"Curvature: \"+\"{:04.1f}\".format(curvature) + 'm')\n",
    "            self.texts.append(\"Distance from Center: \"+\"{:04.3f}\".format(center_offset)+ 'm')\n",
    "        \n",
    "        overlay = cv2.warpPerspective(self.draw_lane(), self.M_inv,\n",
    "                                      (self.original_image_size[1],self.original_image_size[0]),\n",
    "                                      flags=cv2.INTER_LINEAR)\n",
    "        return self.draw_result(cv2.addWeighted(img, 1, overlay, 1, 0.0))"
   ]
  }
 ],
 "metadata": {
  "kernelspec": {
   "display_name": "Python 3",
   "language": "python",
   "name": "python3"
  },
  "language_info": {
   "codemirror_mode": {
    "name": "ipython",
    "version": 3
   },
   "file_extension": ".py",
   "mimetype": "text/x-python",
   "name": "python",
   "nbconvert_exporter": "python",
   "pygments_lexer": "ipython3",
   "version": "3.5.2"
  },
  "widgets": {
   "state": {},
   "version": "1.1.2"
  }
 },
 "nbformat": 4,
 "nbformat_minor": 2
}
